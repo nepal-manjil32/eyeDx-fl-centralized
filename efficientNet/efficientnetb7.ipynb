{
 "cells": [
  {
   "cell_type": "markdown",
   "metadata": {},
   "source": [
    "### 0. Importing Necessary Libraries & Dependencies "
   ]
  },
  {
   "cell_type": "code",
   "execution_count": 6,
   "metadata": {},
   "outputs": [
    {
     "name": "stdout",
     "output_type": "stream",
     "text": [
      "PyTorch Version: 2.5.1+cu124\n",
      "Device: cuda\n"
     ]
    }
   ],
   "source": [
    "##-- Import libraries --##\n",
    "import torch\n",
    "import torchvision\n",
    "from torch import nn\n",
    "import matplotlib.pyplot as plt\n",
    "from torchvision import transforms\n",
    "from helper_modules import data_setup, engine, utils\n",
    "\n",
    "##-- Setup device agnostic code --##\n",
    "device = \"cuda\" if torch.cuda.is_available() else \"cpu\"\n",
    "\n",
    "print(f\"PyTorch Version: {torch.__version__}\")\n",
    "print(f\"Device: {device}\")\n",
    "\n",
    "BATCH_SIZE = 64\n",
    "RANDOM_STATE = 42"
   ]
  },
  {
   "cell_type": "markdown",
   "metadata": {},
   "source": [
    "### 1. Get Data"
   ]
  },
  {
   "cell_type": "code",
   "execution_count": 7,
   "metadata": {},
   "outputs": [
    {
     "data": {
      "text/plain": [
       "(WindowsPath('C:/Users/nextt/Desktop/Hawking/eyeDx-research/aug_train_val/train'),\n",
       " WindowsPath('C:/Users/nextt/Desktop/Hawking/eyeDx-research/aug_train_val/val'))"
      ]
     },
     "execution_count": 7,
     "metadata": {},
     "output_type": "execute_result"
    }
   ],
   "source": [
    "##-- Setup directory paths --##\n",
    "from pathlib import Path\n",
    "image_data_path = Path(r\"C:\\Users\\nextt\\Desktop\\Hawking\\eyeDx-research\\aug_train_val\")\n",
    "train_dir = image_data_path / \"train\"\n",
    "val_dir = image_data_path / \"val\"\n",
    "\n",
    "train_dir, val_dir"
   ]
  },
  {
   "cell_type": "markdown",
   "metadata": {},
   "source": [
    "### 2. Create Datasets & DataLoaders"
   ]
  },
  {
   "cell_type": "markdown",
   "metadata": {},
   "source": [
    "#### 2.1 Creating a transforms for `torchvision.models` (manual creation)"
   ]
  },
  {
   "cell_type": "code",
   "execution_count": 8,
   "metadata": {},
   "outputs": [],
   "source": [
    "from torchvision import transforms\n",
    "normalize = transforms.Normalize(mean=[0.485, 0.465, 0.406],\n",
    "                                 std=[0.229, 0.224, 0.225])\n",
    "\n",
    "manual_tranforms = transforms.Compose([transforms.Resize((600, 600)),\n",
    "                                       transforms.ToTensor(),\n",
    "                                       normalize])"
   ]
  },
  {
   "cell_type": "markdown",
   "metadata": {},
   "source": [
    "#### 2.2 Creating a transforms for `torchvision.models` (auto creation)\n",
    "\n",
    "- As of `torchvision` v0.13_ there is now support for automatic data transform creation based on the pretrained model weights you're using."
   ]
  },
  {
   "cell_type": "code",
   "execution_count": 9,
   "metadata": {},
   "outputs": [
    {
     "data": {
      "text/plain": [
       "EfficientNet_B7_Weights.IMAGENET1K_V1"
      ]
     },
     "execution_count": 9,
     "metadata": {},
     "output_type": "execute_result"
    }
   ],
   "source": [
    "##-- Get a set of pretrained model weights --##\n",
    "weights_b7 =torchvision.models.EfficientNet_B7_Weights.DEFAULT # 'DEFAULT' = best availabel weight\n",
    "weights_b7"
   ]
  },
  {
   "cell_type": "code",
   "execution_count": 10,
   "metadata": {},
   "outputs": [
    {
     "data": {
      "text/plain": [
       "ImageClassification(\n",
       "    crop_size=[600]\n",
       "    resize_size=[600]\n",
       "    mean=[0.485, 0.456, 0.406]\n",
       "    std=[0.229, 0.224, 0.225]\n",
       "    interpolation=InterpolationMode.BICUBIC\n",
       ")"
      ]
     },
     "execution_count": 10,
     "metadata": {},
     "output_type": "execute_result"
    }
   ],
   "source": [
    "##-- Get the transforms used to create the pretrained weights\n",
    "auto_transforms = weights_b7.transforms()\n",
    "auto_transforms"
   ]
  },
  {
   "cell_type": "code",
   "execution_count": 11,
   "metadata": {},
   "outputs": [
    {
     "data": {
      "text/plain": [
       "(<torch.utils.data.dataloader.DataLoader at 0x150692cbb90>,\n",
       " <torch.utils.data.dataloader.DataLoader at 0x1502bcc9bb0>,\n",
       " ['Central Serous Chorioretinopathy [Color Fundus]',\n",
       "  'Diabetic Retinopathy',\n",
       "  'Disc Edema',\n",
       "  'Glaucoma',\n",
       "  'Healthy',\n",
       "  'Macular Scar',\n",
       "  'Myopia',\n",
       "  'Pterygium',\n",
       "  'Retinal Detachment',\n",
       "  'Retinitis Pigmentosa'])"
      ]
     },
     "execution_count": 11,
     "metadata": {},
     "output_type": "execute_result"
    }
   ],
   "source": [
    "##-- Create DataLoaders using auto_transforms --##\n",
    "train_dataloader, val_dataloader, class_names = data_setup.create_dataloaders(train_dir=train_dir,\n",
    "                                                                              val_dir=val_dir,\n",
    "                                                                              transform=auto_transforms,\n",
    "                                                                              batch_size=BATCH_SIZE)\n",
    "train_dataloader, val_dataloader, class_names\n"
   ]
  },
  {
   "cell_type": "markdown",
   "metadata": {},
   "source": [
    "### 3. Getting Pretrained Models"
   ]
  },
  {
   "cell_type": "markdown",
   "metadata": {},
   "source": [
    "#### 3.1 Setting Up Pretrained Model"
   ]
  },
  {
   "cell_type": "code",
   "execution_count": 12,
   "metadata": {},
   "outputs": [],
   "source": [
    "import torchvision\n",
    "weights_b7 = torchvision.models.EfficientNet_B7_Weights.DEFAULT # \"DEFAULT\" = get the best available weights\n",
    "model_b7 = torchvision.models.efficientnet_b7(weights=weights_b7).to(device)"
   ]
  },
  {
   "cell_type": "code",
   "execution_count": 13,
   "metadata": {},
   "outputs": [
    {
     "name": "stdout",
     "output_type": "stream",
     "text": [
      "AdaptiveAvgPool2d(output_size=1)\n",
      "\n",
      "Sequential(\n",
      "  (0): Dropout(p=0.5, inplace=True)\n",
      "  (1): Linear(in_features=2560, out_features=1000, bias=True)\n",
      ")\n"
     ]
    }
   ],
   "source": [
    "print(f\"{model_b7.avgpool}\\n\")\n",
    "print(f\"{model_b7.classifier}\")"
   ]
  },
  {
   "cell_type": "markdown",
   "metadata": {},
   "source": [
    "#### 3.4 Getting Model Summary Using `torchinfo`"
   ]
  },
  {
   "cell_type": "code",
   "execution_count": 14,
   "metadata": {},
   "outputs": [
    {
     "data": {
      "text/plain": [
       "============================================================================================================================================\n",
       "Layer (type (var_name))                                      Input Shape          Output Shape         Param #              Trainable\n",
       "============================================================================================================================================\n",
       "EfficientNet (EfficientNet)                                  [1, 3, 600, 600]     [1, 1000]            --                   True\n",
       "├─Sequential (features)                                      [1, 3, 600, 600]     [1, 2560, 19, 19]    --                   True\n",
       "│    └─Conv2dNormActivation (0)                              [1, 3, 600, 600]     [1, 64, 300, 300]    --                   True\n",
       "│    │    └─Conv2d (0)                                       [1, 3, 600, 600]     [1, 64, 300, 300]    1,728                True\n",
       "│    │    └─BatchNorm2d (1)                                  [1, 64, 300, 300]    [1, 64, 300, 300]    128                  True\n",
       "│    │    └─SiLU (2)                                         [1, 64, 300, 300]    [1, 64, 300, 300]    --                   --\n",
       "│    └─Sequential (1)                                        [1, 64, 300, 300]    [1, 32, 300, 300]    --                   True\n",
       "│    │    └─MBConv (0)                                       [1, 64, 300, 300]    [1, 32, 300, 300]    4,944                True\n",
       "│    │    └─MBConv (1)                                       [1, 32, 300, 300]    [1, 32, 300, 300]    1,992                True\n",
       "│    │    └─MBConv (2)                                       [1, 32, 300, 300]    [1, 32, 300, 300]    1,992                True\n",
       "│    │    └─MBConv (3)                                       [1, 32, 300, 300]    [1, 32, 300, 300]    1,992                True\n",
       "│    └─Sequential (2)                                        [1, 32, 300, 300]    [1, 48, 150, 150]    --                   True\n",
       "│    │    └─MBConv (0)                                       [1, 32, 300, 300]    [1, 48, 150, 150]    21,224               True\n",
       "│    │    └─MBConv (1)                                       [1, 48, 150, 150]    [1, 48, 150, 150]    38,700               True\n",
       "│    │    └─MBConv (2)                                       [1, 48, 150, 150]    [1, 48, 150, 150]    38,700               True\n",
       "│    │    └─MBConv (3)                                       [1, 48, 150, 150]    [1, 48, 150, 150]    38,700               True\n",
       "│    │    └─MBConv (4)                                       [1, 48, 150, 150]    [1, 48, 150, 150]    38,700               True\n",
       "│    │    └─MBConv (5)                                       [1, 48, 150, 150]    [1, 48, 150, 150]    38,700               True\n",
       "│    │    └─MBConv (6)                                       [1, 48, 150, 150]    [1, 48, 150, 150]    38,700               True\n",
       "│    └─Sequential (3)                                        [1, 48, 150, 150]    [1, 80, 75, 75]      --                   True\n",
       "│    │    └─MBConv (0)                                       [1, 48, 150, 150]    [1, 80, 75, 75]      52,588               True\n",
       "│    │    └─MBConv (1)                                       [1, 80, 75, 75]      [1, 80, 75, 75]      110,580              True\n",
       "│    │    └─MBConv (2)                                       [1, 80, 75, 75]      [1, 80, 75, 75]      110,580              True\n",
       "│    │    └─MBConv (3)                                       [1, 80, 75, 75]      [1, 80, 75, 75]      110,580              True\n",
       "│    │    └─MBConv (4)                                       [1, 80, 75, 75]      [1, 80, 75, 75]      110,580              True\n",
       "│    │    └─MBConv (5)                                       [1, 80, 75, 75]      [1, 80, 75, 75]      110,580              True\n",
       "│    │    └─MBConv (6)                                       [1, 80, 75, 75]      [1, 80, 75, 75]      110,580              True\n",
       "│    └─Sequential (4)                                        [1, 80, 75, 75]      [1, 160, 38, 38]     --                   True\n",
       "│    │    └─MBConv (0)                                       [1, 80, 75, 75]      [1, 160, 38, 38]     141,460              True\n",
       "│    │    └─MBConv (1)                                       [1, 160, 38, 38]     [1, 160, 38, 38]     397,800              True\n",
       "│    │    └─MBConv (2)                                       [1, 160, 38, 38]     [1, 160, 38, 38]     397,800              True\n",
       "│    │    └─MBConv (3)                                       [1, 160, 38, 38]     [1, 160, 38, 38]     397,800              True\n",
       "│    │    └─MBConv (4)                                       [1, 160, 38, 38]     [1, 160, 38, 38]     397,800              True\n",
       "│    │    └─MBConv (5)                                       [1, 160, 38, 38]     [1, 160, 38, 38]     397,800              True\n",
       "│    │    └─MBConv (6)                                       [1, 160, 38, 38]     [1, 160, 38, 38]     397,800              True\n",
       "│    │    └─MBConv (7)                                       [1, 160, 38, 38]     [1, 160, 38, 38]     397,800              True\n",
       "│    │    └─MBConv (8)                                       [1, 160, 38, 38]     [1, 160, 38, 38]     397,800              True\n",
       "│    │    └─MBConv (9)                                       [1, 160, 38, 38]     [1, 160, 38, 38]     397,800              True\n",
       "│    └─Sequential (5)                                        [1, 160, 38, 38]     [1, 224, 38, 38]     --                   True\n",
       "│    │    └─MBConv (0)                                       [1, 160, 38, 38]     [1, 224, 38, 38]     474,728              True\n",
       "│    │    └─MBConv (1)                                       [1, 224, 38, 38]     [1, 224, 38, 38]     793,464              True\n",
       "│    │    └─MBConv (2)                                       [1, 224, 38, 38]     [1, 224, 38, 38]     793,464              True\n",
       "│    │    └─MBConv (3)                                       [1, 224, 38, 38]     [1, 224, 38, 38]     793,464              True\n",
       "│    │    └─MBConv (4)                                       [1, 224, 38, 38]     [1, 224, 38, 38]     793,464              True\n",
       "│    │    └─MBConv (5)                                       [1, 224, 38, 38]     [1, 224, 38, 38]     793,464              True\n",
       "│    │    └─MBConv (6)                                       [1, 224, 38, 38]     [1, 224, 38, 38]     793,464              True\n",
       "│    │    └─MBConv (7)                                       [1, 224, 38, 38]     [1, 224, 38, 38]     793,464              True\n",
       "│    │    └─MBConv (8)                                       [1, 224, 38, 38]     [1, 224, 38, 38]     793,464              True\n",
       "│    │    └─MBConv (9)                                       [1, 224, 38, 38]     [1, 224, 38, 38]     793,464              True\n",
       "│    └─Sequential (6)                                        [1, 224, 38, 38]     [1, 384, 19, 19]     --                   True\n",
       "│    │    └─MBConv (0)                                       [1, 224, 38, 38]     [1, 384, 19, 19]     1,008,824            True\n",
       "│    │    └─MBConv (1)                                       [1, 384, 19, 19]     [1, 384, 19, 19]     2,281,824            True\n",
       "│    │    └─MBConv (2)                                       [1, 384, 19, 19]     [1, 384, 19, 19]     2,281,824            True\n",
       "│    │    └─MBConv (3)                                       [1, 384, 19, 19]     [1, 384, 19, 19]     2,281,824            True\n",
       "│    │    └─MBConv (4)                                       [1, 384, 19, 19]     [1, 384, 19, 19]     2,281,824            True\n",
       "│    │    └─MBConv (5)                                       [1, 384, 19, 19]     [1, 384, 19, 19]     2,281,824            True\n",
       "│    │    └─MBConv (6)                                       [1, 384, 19, 19]     [1, 384, 19, 19]     2,281,824            True\n",
       "│    │    └─MBConv (7)                                       [1, 384, 19, 19]     [1, 384, 19, 19]     2,281,824            True\n",
       "│    │    └─MBConv (8)                                       [1, 384, 19, 19]     [1, 384, 19, 19]     2,281,824            True\n",
       "│    │    └─MBConv (9)                                       [1, 384, 19, 19]     [1, 384, 19, 19]     2,281,824            True\n",
       "│    │    └─MBConv (10)                                      [1, 384, 19, 19]     [1, 384, 19, 19]     2,281,824            True\n",
       "│    │    └─MBConv (11)                                      [1, 384, 19, 19]     [1, 384, 19, 19]     2,281,824            True\n",
       "│    │    └─MBConv (12)                                      [1, 384, 19, 19]     [1, 384, 19, 19]     2,281,824            True\n",
       "│    └─Sequential (7)                                        [1, 384, 19, 19]     [1, 640, 19, 19]     --                   True\n",
       "│    │    └─MBConv (0)                                       [1, 384, 19, 19]     [1, 640, 19, 19]     2,835,296            True\n",
       "│    │    └─MBConv (1)                                       [1, 640, 19, 19]     [1, 640, 19, 19]     6,199,200            True\n",
       "│    │    └─MBConv (2)                                       [1, 640, 19, 19]     [1, 640, 19, 19]     6,199,200            True\n",
       "│    │    └─MBConv (3)                                       [1, 640, 19, 19]     [1, 640, 19, 19]     6,199,200            True\n",
       "│    └─Conv2dNormActivation (8)                              [1, 640, 19, 19]     [1, 2560, 19, 19]    --                   True\n",
       "│    │    └─Conv2d (0)                                       [1, 640, 19, 19]     [1, 2560, 19, 19]    1,638,400            True\n",
       "│    │    └─BatchNorm2d (1)                                  [1, 2560, 19, 19]    [1, 2560, 19, 19]    5,120                True\n",
       "│    │    └─SiLU (2)                                         [1, 2560, 19, 19]    [1, 2560, 19, 19]    --                   --\n",
       "├─AdaptiveAvgPool2d (avgpool)                                [1, 2560, 19, 19]    [1, 2560, 1, 1]      --                   --\n",
       "├─Sequential (classifier)                                    [1, 2560]            [1, 1000]            --                   True\n",
       "│    └─Dropout (0)                                           [1, 2560]            [1, 2560]            --                   --\n",
       "│    └─Linear (1)                                            [1, 2560]            [1, 1000]            2,561,000            True\n",
       "============================================================================================================================================\n",
       "Total params: 66,347,960\n",
       "Trainable params: 66,347,960\n",
       "Non-trainable params: 0\n",
       "Total mult-adds (Units.GIGABYTES): 37.75\n",
       "============================================================================================================================================\n",
       "Input size (MB): 4.32\n",
       "Forward/backward pass size (MB): 4638.44\n",
       "Params size (MB): 265.39\n",
       "Estimated Total Size (MB): 4908.15\n",
       "============================================================================================================================================"
      ]
     },
     "execution_count": 14,
     "metadata": {},
     "output_type": "execute_result"
    }
   ],
   "source": [
    "from torchinfo import summary\n",
    "\n",
    "summary(model=model_b7,\n",
    "        input_size=(1, 3, 600, 600), # [batch_size, color_channels, height, width],\n",
    "        col_names=[\"input_size\", \"output_size\", \"num_params\", \"trainable\"],\n",
    "        col_width=20,\n",
    "        row_settings=[\"var_names\"])"
   ]
  },
  {
   "cell_type": "markdown",
   "metadata": {},
   "source": [
    "#### 3.5 Freezing Base Model & Changing Output Layer Based On Our Needs"
   ]
  },
  {
   "cell_type": "code",
   "execution_count": 15,
   "metadata": {},
   "outputs": [],
   "source": [
    "##-- Freeze all the base layers in EffNetB7 --##\n",
    "for params in model_b7.features.parameters():\n",
    "    params.requires_grad = False # won't updated the weights"
   ]
  },
  {
   "cell_type": "code",
   "execution_count": 16,
   "metadata": {},
   "outputs": [],
   "source": [
    "##-- Update the classifier head of our model to suite our problem --##\n",
    "from torch import nn\n",
    "\n",
    "torch.manual_seed(RANDOM_STATE)\n",
    "torch.cuda.manual_seed(RANDOM_STATE)\n",
    "\n",
    "model_b7.classifier = nn.Sequential(\n",
    "    nn.Dropout(p=0.2, inplace=True),\n",
    "    nn.Linear(in_features=2560, # features vector coming in from the forzen layers\n",
    "              out_features=len(class_names)).to(device))"
   ]
  },
  {
   "cell_type": "code",
   "execution_count": 17,
   "metadata": {},
   "outputs": [
    {
     "data": {
      "text/plain": [
       "============================================================================================================================================\n",
       "Layer (type (var_name))                                      Input Shape          Output Shape         Param #              Trainable\n",
       "============================================================================================================================================\n",
       "EfficientNet (EfficientNet)                                  [1, 3, 600, 600]     [1, 10]              --                   Partial\n",
       "├─Sequential (features)                                      [1, 3, 600, 600]     [1, 2560, 19, 19]    --                   False\n",
       "│    └─Conv2dNormActivation (0)                              [1, 3, 600, 600]     [1, 64, 300, 300]    --                   False\n",
       "│    │    └─Conv2d (0)                                       [1, 3, 600, 600]     [1, 64, 300, 300]    (1,728)              False\n",
       "│    │    └─BatchNorm2d (1)                                  [1, 64, 300, 300]    [1, 64, 300, 300]    (128)                False\n",
       "│    │    └─SiLU (2)                                         [1, 64, 300, 300]    [1, 64, 300, 300]    --                   --\n",
       "│    └─Sequential (1)                                        [1, 64, 300, 300]    [1, 32, 300, 300]    --                   False\n",
       "│    │    └─MBConv (0)                                       [1, 64, 300, 300]    [1, 32, 300, 300]    (4,944)              False\n",
       "│    │    └─MBConv (1)                                       [1, 32, 300, 300]    [1, 32, 300, 300]    (1,992)              False\n",
       "│    │    └─MBConv (2)                                       [1, 32, 300, 300]    [1, 32, 300, 300]    (1,992)              False\n",
       "│    │    └─MBConv (3)                                       [1, 32, 300, 300]    [1, 32, 300, 300]    (1,992)              False\n",
       "│    └─Sequential (2)                                        [1, 32, 300, 300]    [1, 48, 150, 150]    --                   False\n",
       "│    │    └─MBConv (0)                                       [1, 32, 300, 300]    [1, 48, 150, 150]    (21,224)             False\n",
       "│    │    └─MBConv (1)                                       [1, 48, 150, 150]    [1, 48, 150, 150]    (38,700)             False\n",
       "│    │    └─MBConv (2)                                       [1, 48, 150, 150]    [1, 48, 150, 150]    (38,700)             False\n",
       "│    │    └─MBConv (3)                                       [1, 48, 150, 150]    [1, 48, 150, 150]    (38,700)             False\n",
       "│    │    └─MBConv (4)                                       [1, 48, 150, 150]    [1, 48, 150, 150]    (38,700)             False\n",
       "│    │    └─MBConv (5)                                       [1, 48, 150, 150]    [1, 48, 150, 150]    (38,700)             False\n",
       "│    │    └─MBConv (6)                                       [1, 48, 150, 150]    [1, 48, 150, 150]    (38,700)             False\n",
       "│    └─Sequential (3)                                        [1, 48, 150, 150]    [1, 80, 75, 75]      --                   False\n",
       "│    │    └─MBConv (0)                                       [1, 48, 150, 150]    [1, 80, 75, 75]      (52,588)             False\n",
       "│    │    └─MBConv (1)                                       [1, 80, 75, 75]      [1, 80, 75, 75]      (110,580)            False\n",
       "│    │    └─MBConv (2)                                       [1, 80, 75, 75]      [1, 80, 75, 75]      (110,580)            False\n",
       "│    │    └─MBConv (3)                                       [1, 80, 75, 75]      [1, 80, 75, 75]      (110,580)            False\n",
       "│    │    └─MBConv (4)                                       [1, 80, 75, 75]      [1, 80, 75, 75]      (110,580)            False\n",
       "│    │    └─MBConv (5)                                       [1, 80, 75, 75]      [1, 80, 75, 75]      (110,580)            False\n",
       "│    │    └─MBConv (6)                                       [1, 80, 75, 75]      [1, 80, 75, 75]      (110,580)            False\n",
       "│    └─Sequential (4)                                        [1, 80, 75, 75]      [1, 160, 38, 38]     --                   False\n",
       "│    │    └─MBConv (0)                                       [1, 80, 75, 75]      [1, 160, 38, 38]     (141,460)            False\n",
       "│    │    └─MBConv (1)                                       [1, 160, 38, 38]     [1, 160, 38, 38]     (397,800)            False\n",
       "│    │    └─MBConv (2)                                       [1, 160, 38, 38]     [1, 160, 38, 38]     (397,800)            False\n",
       "│    │    └─MBConv (3)                                       [1, 160, 38, 38]     [1, 160, 38, 38]     (397,800)            False\n",
       "│    │    └─MBConv (4)                                       [1, 160, 38, 38]     [1, 160, 38, 38]     (397,800)            False\n",
       "│    │    └─MBConv (5)                                       [1, 160, 38, 38]     [1, 160, 38, 38]     (397,800)            False\n",
       "│    │    └─MBConv (6)                                       [1, 160, 38, 38]     [1, 160, 38, 38]     (397,800)            False\n",
       "│    │    └─MBConv (7)                                       [1, 160, 38, 38]     [1, 160, 38, 38]     (397,800)            False\n",
       "│    │    └─MBConv (8)                                       [1, 160, 38, 38]     [1, 160, 38, 38]     (397,800)            False\n",
       "│    │    └─MBConv (9)                                       [1, 160, 38, 38]     [1, 160, 38, 38]     (397,800)            False\n",
       "│    └─Sequential (5)                                        [1, 160, 38, 38]     [1, 224, 38, 38]     --                   False\n",
       "│    │    └─MBConv (0)                                       [1, 160, 38, 38]     [1, 224, 38, 38]     (474,728)            False\n",
       "│    │    └─MBConv (1)                                       [1, 224, 38, 38]     [1, 224, 38, 38]     (793,464)            False\n",
       "│    │    └─MBConv (2)                                       [1, 224, 38, 38]     [1, 224, 38, 38]     (793,464)            False\n",
       "│    │    └─MBConv (3)                                       [1, 224, 38, 38]     [1, 224, 38, 38]     (793,464)            False\n",
       "│    │    └─MBConv (4)                                       [1, 224, 38, 38]     [1, 224, 38, 38]     (793,464)            False\n",
       "│    │    └─MBConv (5)                                       [1, 224, 38, 38]     [1, 224, 38, 38]     (793,464)            False\n",
       "│    │    └─MBConv (6)                                       [1, 224, 38, 38]     [1, 224, 38, 38]     (793,464)            False\n",
       "│    │    └─MBConv (7)                                       [1, 224, 38, 38]     [1, 224, 38, 38]     (793,464)            False\n",
       "│    │    └─MBConv (8)                                       [1, 224, 38, 38]     [1, 224, 38, 38]     (793,464)            False\n",
       "│    │    └─MBConv (9)                                       [1, 224, 38, 38]     [1, 224, 38, 38]     (793,464)            False\n",
       "│    └─Sequential (6)                                        [1, 224, 38, 38]     [1, 384, 19, 19]     --                   False\n",
       "│    │    └─MBConv (0)                                       [1, 224, 38, 38]     [1, 384, 19, 19]     (1,008,824)          False\n",
       "│    │    └─MBConv (1)                                       [1, 384, 19, 19]     [1, 384, 19, 19]     (2,281,824)          False\n",
       "│    │    └─MBConv (2)                                       [1, 384, 19, 19]     [1, 384, 19, 19]     (2,281,824)          False\n",
       "│    │    └─MBConv (3)                                       [1, 384, 19, 19]     [1, 384, 19, 19]     (2,281,824)          False\n",
       "│    │    └─MBConv (4)                                       [1, 384, 19, 19]     [1, 384, 19, 19]     (2,281,824)          False\n",
       "│    │    └─MBConv (5)                                       [1, 384, 19, 19]     [1, 384, 19, 19]     (2,281,824)          False\n",
       "│    │    └─MBConv (6)                                       [1, 384, 19, 19]     [1, 384, 19, 19]     (2,281,824)          False\n",
       "│    │    └─MBConv (7)                                       [1, 384, 19, 19]     [1, 384, 19, 19]     (2,281,824)          False\n",
       "│    │    └─MBConv (8)                                       [1, 384, 19, 19]     [1, 384, 19, 19]     (2,281,824)          False\n",
       "│    │    └─MBConv (9)                                       [1, 384, 19, 19]     [1, 384, 19, 19]     (2,281,824)          False\n",
       "│    │    └─MBConv (10)                                      [1, 384, 19, 19]     [1, 384, 19, 19]     (2,281,824)          False\n",
       "│    │    └─MBConv (11)                                      [1, 384, 19, 19]     [1, 384, 19, 19]     (2,281,824)          False\n",
       "│    │    └─MBConv (12)                                      [1, 384, 19, 19]     [1, 384, 19, 19]     (2,281,824)          False\n",
       "│    └─Sequential (7)                                        [1, 384, 19, 19]     [1, 640, 19, 19]     --                   False\n",
       "│    │    └─MBConv (0)                                       [1, 384, 19, 19]     [1, 640, 19, 19]     (2,835,296)          False\n",
       "│    │    └─MBConv (1)                                       [1, 640, 19, 19]     [1, 640, 19, 19]     (6,199,200)          False\n",
       "│    │    └─MBConv (2)                                       [1, 640, 19, 19]     [1, 640, 19, 19]     (6,199,200)          False\n",
       "│    │    └─MBConv (3)                                       [1, 640, 19, 19]     [1, 640, 19, 19]     (6,199,200)          False\n",
       "│    └─Conv2dNormActivation (8)                              [1, 640, 19, 19]     [1, 2560, 19, 19]    --                   False\n",
       "│    │    └─Conv2d (0)                                       [1, 640, 19, 19]     [1, 2560, 19, 19]    (1,638,400)          False\n",
       "│    │    └─BatchNorm2d (1)                                  [1, 2560, 19, 19]    [1, 2560, 19, 19]    (5,120)              False\n",
       "│    │    └─SiLU (2)                                         [1, 2560, 19, 19]    [1, 2560, 19, 19]    --                   --\n",
       "├─AdaptiveAvgPool2d (avgpool)                                [1, 2560, 19, 19]    [1, 2560, 1, 1]      --                   --\n",
       "├─Sequential (classifier)                                    [1, 2560]            [1, 10]              --                   True\n",
       "│    └─Dropout (0)                                           [1, 2560]            [1, 2560]            --                   --\n",
       "│    └─Linear (1)                                            [1, 2560]            [1, 10]              25,610               True\n",
       "============================================================================================================================================\n",
       "Total params: 63,812,570\n",
       "Trainable params: 25,610\n",
       "Non-trainable params: 63,786,960\n",
       "Total mult-adds (Units.GIGABYTES): 37.74\n",
       "============================================================================================================================================\n",
       "Input size (MB): 4.32\n",
       "Forward/backward pass size (MB): 4638.43\n",
       "Params size (MB): 255.25\n",
       "Estimated Total Size (MB): 4898.00\n",
       "============================================================================================================================================"
      ]
     },
     "execution_count": 17,
     "metadata": {},
     "output_type": "execute_result"
    }
   ],
   "source": [
    "summary(model=model_b7,\n",
    "        input_size=(1, 3, 600, 600), # [batch_size, color_channels, height, width],\n",
    "        col_names=[\"input_size\", \"output_size\", \"num_params\", \"trainable\"],\n",
    "        col_width=20,\n",
    "        row_settings=[\"var_names\"])"
   ]
  },
  {
   "cell_type": "markdown",
   "metadata": {},
   "source": [
    "### 4. Train Model"
   ]
  },
  {
   "cell_type": "code",
   "execution_count": 18,
   "metadata": {},
   "outputs": [
    {
     "name": "stderr",
     "output_type": "stream",
     "text": [
      "  0%|          | 0/20 [05:13<?, ?it/s]\n"
     ]
    },
    {
     "ename": "KeyboardInterrupt",
     "evalue": "",
     "output_type": "error",
     "traceback": [
      "\u001b[1;31m---------------------------------------------------------------------------\u001b[0m",
      "\u001b[1;31mKeyboardInterrupt\u001b[0m                         Traceback (most recent call last)",
      "Cell \u001b[1;32mIn[18], line 17\u001b[0m\n\u001b[0;32m     14\u001b[0m start_time \u001b[38;5;241m=\u001b[39m timer()\n\u001b[0;32m     16\u001b[0m \u001b[38;5;66;03m##-- Setup training and save the results --##\u001b[39;00m\n\u001b[1;32m---> 17\u001b[0m model_b7_results \u001b[38;5;241m=\u001b[39m \u001b[43mengine\u001b[49m\u001b[38;5;241;43m.\u001b[39;49m\u001b[43mtrain\u001b[49m\u001b[43m(\u001b[49m\u001b[43mmodel\u001b[49m\u001b[38;5;241;43m=\u001b[39;49m\u001b[43mmodel_b7\u001b[49m\u001b[43m,\u001b[49m\n\u001b[0;32m     18\u001b[0m \u001b[43m                               \u001b[49m\u001b[43mtrain_dataloader\u001b[49m\u001b[38;5;241;43m=\u001b[39;49m\u001b[43mtrain_dataloader\u001b[49m\u001b[43m,\u001b[49m\n\u001b[0;32m     19\u001b[0m \u001b[43m                               \u001b[49m\u001b[43mval_dataloader\u001b[49m\u001b[38;5;241;43m=\u001b[39;49m\u001b[43mval_dataloader\u001b[49m\u001b[43m,\u001b[49m\n\u001b[0;32m     20\u001b[0m \u001b[43m                               \u001b[49m\u001b[43moptimizer\u001b[49m\u001b[38;5;241;43m=\u001b[39;49m\u001b[43moptimizer\u001b[49m\u001b[43m,\u001b[49m\n\u001b[0;32m     21\u001b[0m \u001b[43m                               \u001b[49m\u001b[43mloss_fn\u001b[49m\u001b[38;5;241;43m=\u001b[39;49m\u001b[43mloss_fn\u001b[49m\u001b[43m,\u001b[49m\n\u001b[0;32m     22\u001b[0m \u001b[43m                               \u001b[49m\u001b[43mepochs\u001b[49m\u001b[38;5;241;43m=\u001b[39;49m\u001b[43mEPOCHS\u001b[49m\u001b[43m,\u001b[49m\n\u001b[0;32m     23\u001b[0m \u001b[43m                               \u001b[49m\u001b[43mdevice\u001b[49m\u001b[38;5;241;43m=\u001b[39;49m\u001b[43mdevice\u001b[49m\u001b[43m)\u001b[49m\n\u001b[0;32m     25\u001b[0m \u001b[38;5;66;03m##-- End timer --##\u001b[39;00m\n\u001b[0;32m     26\u001b[0m end_time \u001b[38;5;241m=\u001b[39m timer()\n",
      "File \u001b[1;32mc:\\Users\\nextt\\Desktop\\Hawking\\eyeDx-research\\eyeDx-fl-centralized\\efficientNet\\helper_modules\\engine.py:169\u001b[0m, in \u001b[0;36mtrain\u001b[1;34m(model, train_dataloader, val_dataloader, optimizer, loss_fn, epochs, device)\u001b[0m\n\u001b[0;32m    167\u001b[0m \u001b[38;5;66;03m# Loop through training and testing steps for a number of epochs\u001b[39;00m\n\u001b[0;32m    168\u001b[0m \u001b[38;5;28;01mfor\u001b[39;00m epoch \u001b[38;5;129;01min\u001b[39;00m tqdm(\u001b[38;5;28mrange\u001b[39m(epochs)):\n\u001b[1;32m--> 169\u001b[0m     train_loss, train_acc \u001b[38;5;241m=\u001b[39m \u001b[43mtrain_step\u001b[49m\u001b[43m(\u001b[49m\u001b[43mmodel\u001b[49m\u001b[38;5;241;43m=\u001b[39;49m\u001b[43mmodel\u001b[49m\u001b[43m,\u001b[49m\n\u001b[0;32m    170\u001b[0m \u001b[43m                                      \u001b[49m\u001b[43mdataloader\u001b[49m\u001b[38;5;241;43m=\u001b[39;49m\u001b[43mtrain_dataloader\u001b[49m\u001b[43m,\u001b[49m\n\u001b[0;32m    171\u001b[0m \u001b[43m                                      \u001b[49m\u001b[43mloss_fn\u001b[49m\u001b[38;5;241;43m=\u001b[39;49m\u001b[43mloss_fn\u001b[49m\u001b[43m,\u001b[49m\n\u001b[0;32m    172\u001b[0m \u001b[43m                                      \u001b[49m\u001b[43moptimizer\u001b[49m\u001b[38;5;241;43m=\u001b[39;49m\u001b[43moptimizer\u001b[49m\u001b[43m,\u001b[49m\n\u001b[0;32m    173\u001b[0m \u001b[43m                                      \u001b[49m\u001b[43mdevice\u001b[49m\u001b[38;5;241;43m=\u001b[39;49m\u001b[43mdevice\u001b[49m\u001b[43m)\u001b[49m\n\u001b[0;32m    175\u001b[0m     val_loss, val_acc \u001b[38;5;241m=\u001b[39m val_step(model\u001b[38;5;241m=\u001b[39mmodel,\n\u001b[0;32m    176\u001b[0m                                 dataloader\u001b[38;5;241m=\u001b[39mval_dataloader,\n\u001b[0;32m    177\u001b[0m                                 loss_fn\u001b[38;5;241m=\u001b[39mloss_fn,\n\u001b[0;32m    178\u001b[0m                                 device\u001b[38;5;241m=\u001b[39mdevice)\n\u001b[0;32m    180\u001b[0m     \u001b[38;5;66;03m# Print out what's happening\u001b[39;00m\n",
      "File \u001b[1;32mc:\\Users\\nextt\\Desktop\\Hawking\\eyeDx-research\\eyeDx-fl-centralized\\efficientNet\\helper_modules\\engine.py:45\u001b[0m, in \u001b[0;36mtrain_step\u001b[1;34m(model, dataloader, loss_fn, optimizer, device)\u001b[0m\n\u001b[0;32m     42\u001b[0m X, y \u001b[38;5;241m=\u001b[39m X\u001b[38;5;241m.\u001b[39mto(device), y\u001b[38;5;241m.\u001b[39mto(device)\n\u001b[0;32m     44\u001b[0m \u001b[38;5;66;03m# 1. Forward pass\u001b[39;00m\n\u001b[1;32m---> 45\u001b[0m y_pred \u001b[38;5;241m=\u001b[39m \u001b[43mmodel\u001b[49m\u001b[43m(\u001b[49m\u001b[43mX\u001b[49m\u001b[43m)\u001b[49m\n\u001b[0;32m     47\u001b[0m \u001b[38;5;66;03m# 2. Calculate  and accumulate loss\u001b[39;00m\n\u001b[0;32m     48\u001b[0m loss \u001b[38;5;241m=\u001b[39m loss_fn(y_pred, y)\n",
      "File \u001b[1;32mc:\\Users\\nextt\\Desktop\\Hawking\\eyeDx-research\\eyeDx-fl-centralized\\hawking\\Lib\\site-packages\\torch\\nn\\modules\\module.py:1736\u001b[0m, in \u001b[0;36mModule._wrapped_call_impl\u001b[1;34m(self, *args, **kwargs)\u001b[0m\n\u001b[0;32m   1734\u001b[0m     \u001b[38;5;28;01mreturn\u001b[39;00m \u001b[38;5;28mself\u001b[39m\u001b[38;5;241m.\u001b[39m_compiled_call_impl(\u001b[38;5;241m*\u001b[39margs, \u001b[38;5;241m*\u001b[39m\u001b[38;5;241m*\u001b[39mkwargs)  \u001b[38;5;66;03m# type: ignore[misc]\u001b[39;00m\n\u001b[0;32m   1735\u001b[0m \u001b[38;5;28;01melse\u001b[39;00m:\n\u001b[1;32m-> 1736\u001b[0m     \u001b[38;5;28;01mreturn\u001b[39;00m \u001b[38;5;28;43mself\u001b[39;49m\u001b[38;5;241;43m.\u001b[39;49m\u001b[43m_call_impl\u001b[49m\u001b[43m(\u001b[49m\u001b[38;5;241;43m*\u001b[39;49m\u001b[43margs\u001b[49m\u001b[43m,\u001b[49m\u001b[43m \u001b[49m\u001b[38;5;241;43m*\u001b[39;49m\u001b[38;5;241;43m*\u001b[39;49m\u001b[43mkwargs\u001b[49m\u001b[43m)\u001b[49m\n",
      "File \u001b[1;32mc:\\Users\\nextt\\Desktop\\Hawking\\eyeDx-research\\eyeDx-fl-centralized\\hawking\\Lib\\site-packages\\torch\\nn\\modules\\module.py:1747\u001b[0m, in \u001b[0;36mModule._call_impl\u001b[1;34m(self, *args, **kwargs)\u001b[0m\n\u001b[0;32m   1742\u001b[0m \u001b[38;5;66;03m# If we don't have any hooks, we want to skip the rest of the logic in\u001b[39;00m\n\u001b[0;32m   1743\u001b[0m \u001b[38;5;66;03m# this function, and just call forward.\u001b[39;00m\n\u001b[0;32m   1744\u001b[0m \u001b[38;5;28;01mif\u001b[39;00m \u001b[38;5;129;01mnot\u001b[39;00m (\u001b[38;5;28mself\u001b[39m\u001b[38;5;241m.\u001b[39m_backward_hooks \u001b[38;5;129;01mor\u001b[39;00m \u001b[38;5;28mself\u001b[39m\u001b[38;5;241m.\u001b[39m_backward_pre_hooks \u001b[38;5;129;01mor\u001b[39;00m \u001b[38;5;28mself\u001b[39m\u001b[38;5;241m.\u001b[39m_forward_hooks \u001b[38;5;129;01mor\u001b[39;00m \u001b[38;5;28mself\u001b[39m\u001b[38;5;241m.\u001b[39m_forward_pre_hooks\n\u001b[0;32m   1745\u001b[0m         \u001b[38;5;129;01mor\u001b[39;00m _global_backward_pre_hooks \u001b[38;5;129;01mor\u001b[39;00m _global_backward_hooks\n\u001b[0;32m   1746\u001b[0m         \u001b[38;5;129;01mor\u001b[39;00m _global_forward_hooks \u001b[38;5;129;01mor\u001b[39;00m _global_forward_pre_hooks):\n\u001b[1;32m-> 1747\u001b[0m     \u001b[38;5;28;01mreturn\u001b[39;00m \u001b[43mforward_call\u001b[49m\u001b[43m(\u001b[49m\u001b[38;5;241;43m*\u001b[39;49m\u001b[43margs\u001b[49m\u001b[43m,\u001b[49m\u001b[43m \u001b[49m\u001b[38;5;241;43m*\u001b[39;49m\u001b[38;5;241;43m*\u001b[39;49m\u001b[43mkwargs\u001b[49m\u001b[43m)\u001b[49m\n\u001b[0;32m   1749\u001b[0m result \u001b[38;5;241m=\u001b[39m \u001b[38;5;28;01mNone\u001b[39;00m\n\u001b[0;32m   1750\u001b[0m called_always_called_hooks \u001b[38;5;241m=\u001b[39m \u001b[38;5;28mset\u001b[39m()\n",
      "File \u001b[1;32mc:\\Users\\nextt\\Desktop\\Hawking\\eyeDx-research\\eyeDx-fl-centralized\\hawking\\Lib\\site-packages\\torchvision\\models\\efficientnet.py:343\u001b[0m, in \u001b[0;36mEfficientNet.forward\u001b[1;34m(self, x)\u001b[0m\n\u001b[0;32m    342\u001b[0m \u001b[38;5;28;01mdef\u001b[39;00m\u001b[38;5;250m \u001b[39m\u001b[38;5;21mforward\u001b[39m(\u001b[38;5;28mself\u001b[39m, x: Tensor) \u001b[38;5;241m-\u001b[39m\u001b[38;5;241m>\u001b[39m Tensor:\n\u001b[1;32m--> 343\u001b[0m     \u001b[38;5;28;01mreturn\u001b[39;00m \u001b[38;5;28;43mself\u001b[39;49m\u001b[38;5;241;43m.\u001b[39;49m\u001b[43m_forward_impl\u001b[49m\u001b[43m(\u001b[49m\u001b[43mx\u001b[49m\u001b[43m)\u001b[49m\n",
      "File \u001b[1;32mc:\\Users\\nextt\\Desktop\\Hawking\\eyeDx-research\\eyeDx-fl-centralized\\hawking\\Lib\\site-packages\\torchvision\\models\\efficientnet.py:333\u001b[0m, in \u001b[0;36mEfficientNet._forward_impl\u001b[1;34m(self, x)\u001b[0m\n\u001b[0;32m    332\u001b[0m \u001b[38;5;28;01mdef\u001b[39;00m\u001b[38;5;250m \u001b[39m\u001b[38;5;21m_forward_impl\u001b[39m(\u001b[38;5;28mself\u001b[39m, x: Tensor) \u001b[38;5;241m-\u001b[39m\u001b[38;5;241m>\u001b[39m Tensor:\n\u001b[1;32m--> 333\u001b[0m     x \u001b[38;5;241m=\u001b[39m \u001b[38;5;28;43mself\u001b[39;49m\u001b[38;5;241;43m.\u001b[39;49m\u001b[43mfeatures\u001b[49m\u001b[43m(\u001b[49m\u001b[43mx\u001b[49m\u001b[43m)\u001b[49m\n\u001b[0;32m    335\u001b[0m     x \u001b[38;5;241m=\u001b[39m \u001b[38;5;28mself\u001b[39m\u001b[38;5;241m.\u001b[39mavgpool(x)\n\u001b[0;32m    336\u001b[0m     x \u001b[38;5;241m=\u001b[39m torch\u001b[38;5;241m.\u001b[39mflatten(x, \u001b[38;5;241m1\u001b[39m)\n",
      "File \u001b[1;32mc:\\Users\\nextt\\Desktop\\Hawking\\eyeDx-research\\eyeDx-fl-centralized\\hawking\\Lib\\site-packages\\torch\\nn\\modules\\module.py:1736\u001b[0m, in \u001b[0;36mModule._wrapped_call_impl\u001b[1;34m(self, *args, **kwargs)\u001b[0m\n\u001b[0;32m   1734\u001b[0m     \u001b[38;5;28;01mreturn\u001b[39;00m \u001b[38;5;28mself\u001b[39m\u001b[38;5;241m.\u001b[39m_compiled_call_impl(\u001b[38;5;241m*\u001b[39margs, \u001b[38;5;241m*\u001b[39m\u001b[38;5;241m*\u001b[39mkwargs)  \u001b[38;5;66;03m# type: ignore[misc]\u001b[39;00m\n\u001b[0;32m   1735\u001b[0m \u001b[38;5;28;01melse\u001b[39;00m:\n\u001b[1;32m-> 1736\u001b[0m     \u001b[38;5;28;01mreturn\u001b[39;00m \u001b[38;5;28;43mself\u001b[39;49m\u001b[38;5;241;43m.\u001b[39;49m\u001b[43m_call_impl\u001b[49m\u001b[43m(\u001b[49m\u001b[38;5;241;43m*\u001b[39;49m\u001b[43margs\u001b[49m\u001b[43m,\u001b[49m\u001b[43m \u001b[49m\u001b[38;5;241;43m*\u001b[39;49m\u001b[38;5;241;43m*\u001b[39;49m\u001b[43mkwargs\u001b[49m\u001b[43m)\u001b[49m\n",
      "File \u001b[1;32mc:\\Users\\nextt\\Desktop\\Hawking\\eyeDx-research\\eyeDx-fl-centralized\\hawking\\Lib\\site-packages\\torch\\nn\\modules\\module.py:1747\u001b[0m, in \u001b[0;36mModule._call_impl\u001b[1;34m(self, *args, **kwargs)\u001b[0m\n\u001b[0;32m   1742\u001b[0m \u001b[38;5;66;03m# If we don't have any hooks, we want to skip the rest of the logic in\u001b[39;00m\n\u001b[0;32m   1743\u001b[0m \u001b[38;5;66;03m# this function, and just call forward.\u001b[39;00m\n\u001b[0;32m   1744\u001b[0m \u001b[38;5;28;01mif\u001b[39;00m \u001b[38;5;129;01mnot\u001b[39;00m (\u001b[38;5;28mself\u001b[39m\u001b[38;5;241m.\u001b[39m_backward_hooks \u001b[38;5;129;01mor\u001b[39;00m \u001b[38;5;28mself\u001b[39m\u001b[38;5;241m.\u001b[39m_backward_pre_hooks \u001b[38;5;129;01mor\u001b[39;00m \u001b[38;5;28mself\u001b[39m\u001b[38;5;241m.\u001b[39m_forward_hooks \u001b[38;5;129;01mor\u001b[39;00m \u001b[38;5;28mself\u001b[39m\u001b[38;5;241m.\u001b[39m_forward_pre_hooks\n\u001b[0;32m   1745\u001b[0m         \u001b[38;5;129;01mor\u001b[39;00m _global_backward_pre_hooks \u001b[38;5;129;01mor\u001b[39;00m _global_backward_hooks\n\u001b[0;32m   1746\u001b[0m         \u001b[38;5;129;01mor\u001b[39;00m _global_forward_hooks \u001b[38;5;129;01mor\u001b[39;00m _global_forward_pre_hooks):\n\u001b[1;32m-> 1747\u001b[0m     \u001b[38;5;28;01mreturn\u001b[39;00m \u001b[43mforward_call\u001b[49m\u001b[43m(\u001b[49m\u001b[38;5;241;43m*\u001b[39;49m\u001b[43margs\u001b[49m\u001b[43m,\u001b[49m\u001b[43m \u001b[49m\u001b[38;5;241;43m*\u001b[39;49m\u001b[38;5;241;43m*\u001b[39;49m\u001b[43mkwargs\u001b[49m\u001b[43m)\u001b[49m\n\u001b[0;32m   1749\u001b[0m result \u001b[38;5;241m=\u001b[39m \u001b[38;5;28;01mNone\u001b[39;00m\n\u001b[0;32m   1750\u001b[0m called_always_called_hooks \u001b[38;5;241m=\u001b[39m \u001b[38;5;28mset\u001b[39m()\n",
      "File \u001b[1;32mc:\\Users\\nextt\\Desktop\\Hawking\\eyeDx-research\\eyeDx-fl-centralized\\hawking\\Lib\\site-packages\\torch\\nn\\modules\\container.py:250\u001b[0m, in \u001b[0;36mSequential.forward\u001b[1;34m(self, input)\u001b[0m\n\u001b[0;32m    248\u001b[0m \u001b[38;5;28;01mdef\u001b[39;00m\u001b[38;5;250m \u001b[39m\u001b[38;5;21mforward\u001b[39m(\u001b[38;5;28mself\u001b[39m, \u001b[38;5;28minput\u001b[39m):\n\u001b[0;32m    249\u001b[0m     \u001b[38;5;28;01mfor\u001b[39;00m module \u001b[38;5;129;01min\u001b[39;00m \u001b[38;5;28mself\u001b[39m:\n\u001b[1;32m--> 250\u001b[0m         \u001b[38;5;28minput\u001b[39m \u001b[38;5;241m=\u001b[39m \u001b[43mmodule\u001b[49m\u001b[43m(\u001b[49m\u001b[38;5;28;43minput\u001b[39;49m\u001b[43m)\u001b[49m\n\u001b[0;32m    251\u001b[0m     \u001b[38;5;28;01mreturn\u001b[39;00m \u001b[38;5;28minput\u001b[39m\n",
      "File \u001b[1;32mc:\\Users\\nextt\\Desktop\\Hawking\\eyeDx-research\\eyeDx-fl-centralized\\hawking\\Lib\\site-packages\\torch\\nn\\modules\\module.py:1736\u001b[0m, in \u001b[0;36mModule._wrapped_call_impl\u001b[1;34m(self, *args, **kwargs)\u001b[0m\n\u001b[0;32m   1734\u001b[0m     \u001b[38;5;28;01mreturn\u001b[39;00m \u001b[38;5;28mself\u001b[39m\u001b[38;5;241m.\u001b[39m_compiled_call_impl(\u001b[38;5;241m*\u001b[39margs, \u001b[38;5;241m*\u001b[39m\u001b[38;5;241m*\u001b[39mkwargs)  \u001b[38;5;66;03m# type: ignore[misc]\u001b[39;00m\n\u001b[0;32m   1735\u001b[0m \u001b[38;5;28;01melse\u001b[39;00m:\n\u001b[1;32m-> 1736\u001b[0m     \u001b[38;5;28;01mreturn\u001b[39;00m \u001b[38;5;28;43mself\u001b[39;49m\u001b[38;5;241;43m.\u001b[39;49m\u001b[43m_call_impl\u001b[49m\u001b[43m(\u001b[49m\u001b[38;5;241;43m*\u001b[39;49m\u001b[43margs\u001b[49m\u001b[43m,\u001b[49m\u001b[43m \u001b[49m\u001b[38;5;241;43m*\u001b[39;49m\u001b[38;5;241;43m*\u001b[39;49m\u001b[43mkwargs\u001b[49m\u001b[43m)\u001b[49m\n",
      "File \u001b[1;32mc:\\Users\\nextt\\Desktop\\Hawking\\eyeDx-research\\eyeDx-fl-centralized\\hawking\\Lib\\site-packages\\torch\\nn\\modules\\module.py:1747\u001b[0m, in \u001b[0;36mModule._call_impl\u001b[1;34m(self, *args, **kwargs)\u001b[0m\n\u001b[0;32m   1742\u001b[0m \u001b[38;5;66;03m# If we don't have any hooks, we want to skip the rest of the logic in\u001b[39;00m\n\u001b[0;32m   1743\u001b[0m \u001b[38;5;66;03m# this function, and just call forward.\u001b[39;00m\n\u001b[0;32m   1744\u001b[0m \u001b[38;5;28;01mif\u001b[39;00m \u001b[38;5;129;01mnot\u001b[39;00m (\u001b[38;5;28mself\u001b[39m\u001b[38;5;241m.\u001b[39m_backward_hooks \u001b[38;5;129;01mor\u001b[39;00m \u001b[38;5;28mself\u001b[39m\u001b[38;5;241m.\u001b[39m_backward_pre_hooks \u001b[38;5;129;01mor\u001b[39;00m \u001b[38;5;28mself\u001b[39m\u001b[38;5;241m.\u001b[39m_forward_hooks \u001b[38;5;129;01mor\u001b[39;00m \u001b[38;5;28mself\u001b[39m\u001b[38;5;241m.\u001b[39m_forward_pre_hooks\n\u001b[0;32m   1745\u001b[0m         \u001b[38;5;129;01mor\u001b[39;00m _global_backward_pre_hooks \u001b[38;5;129;01mor\u001b[39;00m _global_backward_hooks\n\u001b[0;32m   1746\u001b[0m         \u001b[38;5;129;01mor\u001b[39;00m _global_forward_hooks \u001b[38;5;129;01mor\u001b[39;00m _global_forward_pre_hooks):\n\u001b[1;32m-> 1747\u001b[0m     \u001b[38;5;28;01mreturn\u001b[39;00m \u001b[43mforward_call\u001b[49m\u001b[43m(\u001b[49m\u001b[38;5;241;43m*\u001b[39;49m\u001b[43margs\u001b[49m\u001b[43m,\u001b[49m\u001b[43m \u001b[49m\u001b[38;5;241;43m*\u001b[39;49m\u001b[38;5;241;43m*\u001b[39;49m\u001b[43mkwargs\u001b[49m\u001b[43m)\u001b[49m\n\u001b[0;32m   1749\u001b[0m result \u001b[38;5;241m=\u001b[39m \u001b[38;5;28;01mNone\u001b[39;00m\n\u001b[0;32m   1750\u001b[0m called_always_called_hooks \u001b[38;5;241m=\u001b[39m \u001b[38;5;28mset\u001b[39m()\n",
      "File \u001b[1;32mc:\\Users\\nextt\\Desktop\\Hawking\\eyeDx-research\\eyeDx-fl-centralized\\hawking\\Lib\\site-packages\\torch\\nn\\modules\\container.py:250\u001b[0m, in \u001b[0;36mSequential.forward\u001b[1;34m(self, input)\u001b[0m\n\u001b[0;32m    248\u001b[0m \u001b[38;5;28;01mdef\u001b[39;00m\u001b[38;5;250m \u001b[39m\u001b[38;5;21mforward\u001b[39m(\u001b[38;5;28mself\u001b[39m, \u001b[38;5;28minput\u001b[39m):\n\u001b[0;32m    249\u001b[0m     \u001b[38;5;28;01mfor\u001b[39;00m module \u001b[38;5;129;01min\u001b[39;00m \u001b[38;5;28mself\u001b[39m:\n\u001b[1;32m--> 250\u001b[0m         \u001b[38;5;28minput\u001b[39m \u001b[38;5;241m=\u001b[39m \u001b[43mmodule\u001b[49m\u001b[43m(\u001b[49m\u001b[38;5;28;43minput\u001b[39;49m\u001b[43m)\u001b[49m\n\u001b[0;32m    251\u001b[0m     \u001b[38;5;28;01mreturn\u001b[39;00m \u001b[38;5;28minput\u001b[39m\n",
      "File \u001b[1;32mc:\\Users\\nextt\\Desktop\\Hawking\\eyeDx-research\\eyeDx-fl-centralized\\hawking\\Lib\\site-packages\\torch\\nn\\modules\\module.py:1736\u001b[0m, in \u001b[0;36mModule._wrapped_call_impl\u001b[1;34m(self, *args, **kwargs)\u001b[0m\n\u001b[0;32m   1734\u001b[0m     \u001b[38;5;28;01mreturn\u001b[39;00m \u001b[38;5;28mself\u001b[39m\u001b[38;5;241m.\u001b[39m_compiled_call_impl(\u001b[38;5;241m*\u001b[39margs, \u001b[38;5;241m*\u001b[39m\u001b[38;5;241m*\u001b[39mkwargs)  \u001b[38;5;66;03m# type: ignore[misc]\u001b[39;00m\n\u001b[0;32m   1735\u001b[0m \u001b[38;5;28;01melse\u001b[39;00m:\n\u001b[1;32m-> 1736\u001b[0m     \u001b[38;5;28;01mreturn\u001b[39;00m \u001b[38;5;28;43mself\u001b[39;49m\u001b[38;5;241;43m.\u001b[39;49m\u001b[43m_call_impl\u001b[49m\u001b[43m(\u001b[49m\u001b[38;5;241;43m*\u001b[39;49m\u001b[43margs\u001b[49m\u001b[43m,\u001b[49m\u001b[43m \u001b[49m\u001b[38;5;241;43m*\u001b[39;49m\u001b[38;5;241;43m*\u001b[39;49m\u001b[43mkwargs\u001b[49m\u001b[43m)\u001b[49m\n",
      "File \u001b[1;32mc:\\Users\\nextt\\Desktop\\Hawking\\eyeDx-research\\eyeDx-fl-centralized\\hawking\\Lib\\site-packages\\torch\\nn\\modules\\module.py:1747\u001b[0m, in \u001b[0;36mModule._call_impl\u001b[1;34m(self, *args, **kwargs)\u001b[0m\n\u001b[0;32m   1742\u001b[0m \u001b[38;5;66;03m# If we don't have any hooks, we want to skip the rest of the logic in\u001b[39;00m\n\u001b[0;32m   1743\u001b[0m \u001b[38;5;66;03m# this function, and just call forward.\u001b[39;00m\n\u001b[0;32m   1744\u001b[0m \u001b[38;5;28;01mif\u001b[39;00m \u001b[38;5;129;01mnot\u001b[39;00m (\u001b[38;5;28mself\u001b[39m\u001b[38;5;241m.\u001b[39m_backward_hooks \u001b[38;5;129;01mor\u001b[39;00m \u001b[38;5;28mself\u001b[39m\u001b[38;5;241m.\u001b[39m_backward_pre_hooks \u001b[38;5;129;01mor\u001b[39;00m \u001b[38;5;28mself\u001b[39m\u001b[38;5;241m.\u001b[39m_forward_hooks \u001b[38;5;129;01mor\u001b[39;00m \u001b[38;5;28mself\u001b[39m\u001b[38;5;241m.\u001b[39m_forward_pre_hooks\n\u001b[0;32m   1745\u001b[0m         \u001b[38;5;129;01mor\u001b[39;00m _global_backward_pre_hooks \u001b[38;5;129;01mor\u001b[39;00m _global_backward_hooks\n\u001b[0;32m   1746\u001b[0m         \u001b[38;5;129;01mor\u001b[39;00m _global_forward_hooks \u001b[38;5;129;01mor\u001b[39;00m _global_forward_pre_hooks):\n\u001b[1;32m-> 1747\u001b[0m     \u001b[38;5;28;01mreturn\u001b[39;00m \u001b[43mforward_call\u001b[49m\u001b[43m(\u001b[49m\u001b[38;5;241;43m*\u001b[39;49m\u001b[43margs\u001b[49m\u001b[43m,\u001b[49m\u001b[43m \u001b[49m\u001b[38;5;241;43m*\u001b[39;49m\u001b[38;5;241;43m*\u001b[39;49m\u001b[43mkwargs\u001b[49m\u001b[43m)\u001b[49m\n\u001b[0;32m   1749\u001b[0m result \u001b[38;5;241m=\u001b[39m \u001b[38;5;28;01mNone\u001b[39;00m\n\u001b[0;32m   1750\u001b[0m called_always_called_hooks \u001b[38;5;241m=\u001b[39m \u001b[38;5;28mset\u001b[39m()\n",
      "File \u001b[1;32mc:\\Users\\nextt\\Desktop\\Hawking\\eyeDx-research\\eyeDx-fl-centralized\\hawking\\Lib\\site-packages\\torchvision\\models\\efficientnet.py:164\u001b[0m, in \u001b[0;36mMBConv.forward\u001b[1;34m(self, input)\u001b[0m\n\u001b[0;32m    163\u001b[0m \u001b[38;5;28;01mdef\u001b[39;00m\u001b[38;5;250m \u001b[39m\u001b[38;5;21mforward\u001b[39m(\u001b[38;5;28mself\u001b[39m, \u001b[38;5;28minput\u001b[39m: Tensor) \u001b[38;5;241m-\u001b[39m\u001b[38;5;241m>\u001b[39m Tensor:\n\u001b[1;32m--> 164\u001b[0m     result \u001b[38;5;241m=\u001b[39m \u001b[38;5;28;43mself\u001b[39;49m\u001b[38;5;241;43m.\u001b[39;49m\u001b[43mblock\u001b[49m\u001b[43m(\u001b[49m\u001b[38;5;28;43minput\u001b[39;49m\u001b[43m)\u001b[49m\n\u001b[0;32m    165\u001b[0m     \u001b[38;5;28;01mif\u001b[39;00m \u001b[38;5;28mself\u001b[39m\u001b[38;5;241m.\u001b[39muse_res_connect:\n\u001b[0;32m    166\u001b[0m         result \u001b[38;5;241m=\u001b[39m \u001b[38;5;28mself\u001b[39m\u001b[38;5;241m.\u001b[39mstochastic_depth(result)\n",
      "File \u001b[1;32mc:\\Users\\nextt\\Desktop\\Hawking\\eyeDx-research\\eyeDx-fl-centralized\\hawking\\Lib\\site-packages\\torch\\nn\\modules\\module.py:1736\u001b[0m, in \u001b[0;36mModule._wrapped_call_impl\u001b[1;34m(self, *args, **kwargs)\u001b[0m\n\u001b[0;32m   1734\u001b[0m     \u001b[38;5;28;01mreturn\u001b[39;00m \u001b[38;5;28mself\u001b[39m\u001b[38;5;241m.\u001b[39m_compiled_call_impl(\u001b[38;5;241m*\u001b[39margs, \u001b[38;5;241m*\u001b[39m\u001b[38;5;241m*\u001b[39mkwargs)  \u001b[38;5;66;03m# type: ignore[misc]\u001b[39;00m\n\u001b[0;32m   1735\u001b[0m \u001b[38;5;28;01melse\u001b[39;00m:\n\u001b[1;32m-> 1736\u001b[0m     \u001b[38;5;28;01mreturn\u001b[39;00m \u001b[38;5;28;43mself\u001b[39;49m\u001b[38;5;241;43m.\u001b[39;49m\u001b[43m_call_impl\u001b[49m\u001b[43m(\u001b[49m\u001b[38;5;241;43m*\u001b[39;49m\u001b[43margs\u001b[49m\u001b[43m,\u001b[49m\u001b[43m \u001b[49m\u001b[38;5;241;43m*\u001b[39;49m\u001b[38;5;241;43m*\u001b[39;49m\u001b[43mkwargs\u001b[49m\u001b[43m)\u001b[49m\n",
      "File \u001b[1;32mc:\\Users\\nextt\\Desktop\\Hawking\\eyeDx-research\\eyeDx-fl-centralized\\hawking\\Lib\\site-packages\\torch\\nn\\modules\\module.py:1747\u001b[0m, in \u001b[0;36mModule._call_impl\u001b[1;34m(self, *args, **kwargs)\u001b[0m\n\u001b[0;32m   1742\u001b[0m \u001b[38;5;66;03m# If we don't have any hooks, we want to skip the rest of the logic in\u001b[39;00m\n\u001b[0;32m   1743\u001b[0m \u001b[38;5;66;03m# this function, and just call forward.\u001b[39;00m\n\u001b[0;32m   1744\u001b[0m \u001b[38;5;28;01mif\u001b[39;00m \u001b[38;5;129;01mnot\u001b[39;00m (\u001b[38;5;28mself\u001b[39m\u001b[38;5;241m.\u001b[39m_backward_hooks \u001b[38;5;129;01mor\u001b[39;00m \u001b[38;5;28mself\u001b[39m\u001b[38;5;241m.\u001b[39m_backward_pre_hooks \u001b[38;5;129;01mor\u001b[39;00m \u001b[38;5;28mself\u001b[39m\u001b[38;5;241m.\u001b[39m_forward_hooks \u001b[38;5;129;01mor\u001b[39;00m \u001b[38;5;28mself\u001b[39m\u001b[38;5;241m.\u001b[39m_forward_pre_hooks\n\u001b[0;32m   1745\u001b[0m         \u001b[38;5;129;01mor\u001b[39;00m _global_backward_pre_hooks \u001b[38;5;129;01mor\u001b[39;00m _global_backward_hooks\n\u001b[0;32m   1746\u001b[0m         \u001b[38;5;129;01mor\u001b[39;00m _global_forward_hooks \u001b[38;5;129;01mor\u001b[39;00m _global_forward_pre_hooks):\n\u001b[1;32m-> 1747\u001b[0m     \u001b[38;5;28;01mreturn\u001b[39;00m \u001b[43mforward_call\u001b[49m\u001b[43m(\u001b[49m\u001b[38;5;241;43m*\u001b[39;49m\u001b[43margs\u001b[49m\u001b[43m,\u001b[49m\u001b[43m \u001b[49m\u001b[38;5;241;43m*\u001b[39;49m\u001b[38;5;241;43m*\u001b[39;49m\u001b[43mkwargs\u001b[49m\u001b[43m)\u001b[49m\n\u001b[0;32m   1749\u001b[0m result \u001b[38;5;241m=\u001b[39m \u001b[38;5;28;01mNone\u001b[39;00m\n\u001b[0;32m   1750\u001b[0m called_always_called_hooks \u001b[38;5;241m=\u001b[39m \u001b[38;5;28mset\u001b[39m()\n",
      "File \u001b[1;32mc:\\Users\\nextt\\Desktop\\Hawking\\eyeDx-research\\eyeDx-fl-centralized\\hawking\\Lib\\site-packages\\torch\\nn\\modules\\container.py:250\u001b[0m, in \u001b[0;36mSequential.forward\u001b[1;34m(self, input)\u001b[0m\n\u001b[0;32m    248\u001b[0m \u001b[38;5;28;01mdef\u001b[39;00m\u001b[38;5;250m \u001b[39m\u001b[38;5;21mforward\u001b[39m(\u001b[38;5;28mself\u001b[39m, \u001b[38;5;28minput\u001b[39m):\n\u001b[0;32m    249\u001b[0m     \u001b[38;5;28;01mfor\u001b[39;00m module \u001b[38;5;129;01min\u001b[39;00m \u001b[38;5;28mself\u001b[39m:\n\u001b[1;32m--> 250\u001b[0m         \u001b[38;5;28minput\u001b[39m \u001b[38;5;241m=\u001b[39m \u001b[43mmodule\u001b[49m\u001b[43m(\u001b[49m\u001b[38;5;28;43minput\u001b[39;49m\u001b[43m)\u001b[49m\n\u001b[0;32m    251\u001b[0m     \u001b[38;5;28;01mreturn\u001b[39;00m \u001b[38;5;28minput\u001b[39m\n",
      "File \u001b[1;32mc:\\Users\\nextt\\Desktop\\Hawking\\eyeDx-research\\eyeDx-fl-centralized\\hawking\\Lib\\site-packages\\torch\\nn\\modules\\module.py:1736\u001b[0m, in \u001b[0;36mModule._wrapped_call_impl\u001b[1;34m(self, *args, **kwargs)\u001b[0m\n\u001b[0;32m   1734\u001b[0m     \u001b[38;5;28;01mreturn\u001b[39;00m \u001b[38;5;28mself\u001b[39m\u001b[38;5;241m.\u001b[39m_compiled_call_impl(\u001b[38;5;241m*\u001b[39margs, \u001b[38;5;241m*\u001b[39m\u001b[38;5;241m*\u001b[39mkwargs)  \u001b[38;5;66;03m# type: ignore[misc]\u001b[39;00m\n\u001b[0;32m   1735\u001b[0m \u001b[38;5;28;01melse\u001b[39;00m:\n\u001b[1;32m-> 1736\u001b[0m     \u001b[38;5;28;01mreturn\u001b[39;00m \u001b[38;5;28;43mself\u001b[39;49m\u001b[38;5;241;43m.\u001b[39;49m\u001b[43m_call_impl\u001b[49m\u001b[43m(\u001b[49m\u001b[38;5;241;43m*\u001b[39;49m\u001b[43margs\u001b[49m\u001b[43m,\u001b[49m\u001b[43m \u001b[49m\u001b[38;5;241;43m*\u001b[39;49m\u001b[38;5;241;43m*\u001b[39;49m\u001b[43mkwargs\u001b[49m\u001b[43m)\u001b[49m\n",
      "File \u001b[1;32mc:\\Users\\nextt\\Desktop\\Hawking\\eyeDx-research\\eyeDx-fl-centralized\\hawking\\Lib\\site-packages\\torch\\nn\\modules\\module.py:1747\u001b[0m, in \u001b[0;36mModule._call_impl\u001b[1;34m(self, *args, **kwargs)\u001b[0m\n\u001b[0;32m   1742\u001b[0m \u001b[38;5;66;03m# If we don't have any hooks, we want to skip the rest of the logic in\u001b[39;00m\n\u001b[0;32m   1743\u001b[0m \u001b[38;5;66;03m# this function, and just call forward.\u001b[39;00m\n\u001b[0;32m   1744\u001b[0m \u001b[38;5;28;01mif\u001b[39;00m \u001b[38;5;129;01mnot\u001b[39;00m (\u001b[38;5;28mself\u001b[39m\u001b[38;5;241m.\u001b[39m_backward_hooks \u001b[38;5;129;01mor\u001b[39;00m \u001b[38;5;28mself\u001b[39m\u001b[38;5;241m.\u001b[39m_backward_pre_hooks \u001b[38;5;129;01mor\u001b[39;00m \u001b[38;5;28mself\u001b[39m\u001b[38;5;241m.\u001b[39m_forward_hooks \u001b[38;5;129;01mor\u001b[39;00m \u001b[38;5;28mself\u001b[39m\u001b[38;5;241m.\u001b[39m_forward_pre_hooks\n\u001b[0;32m   1745\u001b[0m         \u001b[38;5;129;01mor\u001b[39;00m _global_backward_pre_hooks \u001b[38;5;129;01mor\u001b[39;00m _global_backward_hooks\n\u001b[0;32m   1746\u001b[0m         \u001b[38;5;129;01mor\u001b[39;00m _global_forward_hooks \u001b[38;5;129;01mor\u001b[39;00m _global_forward_pre_hooks):\n\u001b[1;32m-> 1747\u001b[0m     \u001b[38;5;28;01mreturn\u001b[39;00m \u001b[43mforward_call\u001b[49m\u001b[43m(\u001b[49m\u001b[38;5;241;43m*\u001b[39;49m\u001b[43margs\u001b[49m\u001b[43m,\u001b[49m\u001b[43m \u001b[49m\u001b[38;5;241;43m*\u001b[39;49m\u001b[38;5;241;43m*\u001b[39;49m\u001b[43mkwargs\u001b[49m\u001b[43m)\u001b[49m\n\u001b[0;32m   1749\u001b[0m result \u001b[38;5;241m=\u001b[39m \u001b[38;5;28;01mNone\u001b[39;00m\n\u001b[0;32m   1750\u001b[0m called_always_called_hooks \u001b[38;5;241m=\u001b[39m \u001b[38;5;28mset\u001b[39m()\n",
      "File \u001b[1;32mc:\\Users\\nextt\\Desktop\\Hawking\\eyeDx-research\\eyeDx-fl-centralized\\hawking\\Lib\\site-packages\\torch\\nn\\modules\\container.py:250\u001b[0m, in \u001b[0;36mSequential.forward\u001b[1;34m(self, input)\u001b[0m\n\u001b[0;32m    248\u001b[0m \u001b[38;5;28;01mdef\u001b[39;00m\u001b[38;5;250m \u001b[39m\u001b[38;5;21mforward\u001b[39m(\u001b[38;5;28mself\u001b[39m, \u001b[38;5;28minput\u001b[39m):\n\u001b[0;32m    249\u001b[0m     \u001b[38;5;28;01mfor\u001b[39;00m module \u001b[38;5;129;01min\u001b[39;00m \u001b[38;5;28mself\u001b[39m:\n\u001b[1;32m--> 250\u001b[0m         \u001b[38;5;28minput\u001b[39m \u001b[38;5;241m=\u001b[39m \u001b[43mmodule\u001b[49m\u001b[43m(\u001b[49m\u001b[38;5;28;43minput\u001b[39;49m\u001b[43m)\u001b[49m\n\u001b[0;32m    251\u001b[0m     \u001b[38;5;28;01mreturn\u001b[39;00m \u001b[38;5;28minput\u001b[39m\n",
      "File \u001b[1;32mc:\\Users\\nextt\\Desktop\\Hawking\\eyeDx-research\\eyeDx-fl-centralized\\hawking\\Lib\\site-packages\\torch\\nn\\modules\\module.py:1736\u001b[0m, in \u001b[0;36mModule._wrapped_call_impl\u001b[1;34m(self, *args, **kwargs)\u001b[0m\n\u001b[0;32m   1734\u001b[0m     \u001b[38;5;28;01mreturn\u001b[39;00m \u001b[38;5;28mself\u001b[39m\u001b[38;5;241m.\u001b[39m_compiled_call_impl(\u001b[38;5;241m*\u001b[39margs, \u001b[38;5;241m*\u001b[39m\u001b[38;5;241m*\u001b[39mkwargs)  \u001b[38;5;66;03m# type: ignore[misc]\u001b[39;00m\n\u001b[0;32m   1735\u001b[0m \u001b[38;5;28;01melse\u001b[39;00m:\n\u001b[1;32m-> 1736\u001b[0m     \u001b[38;5;28;01mreturn\u001b[39;00m \u001b[38;5;28;43mself\u001b[39;49m\u001b[38;5;241;43m.\u001b[39;49m\u001b[43m_call_impl\u001b[49m\u001b[43m(\u001b[49m\u001b[38;5;241;43m*\u001b[39;49m\u001b[43margs\u001b[49m\u001b[43m,\u001b[49m\u001b[43m \u001b[49m\u001b[38;5;241;43m*\u001b[39;49m\u001b[38;5;241;43m*\u001b[39;49m\u001b[43mkwargs\u001b[49m\u001b[43m)\u001b[49m\n",
      "File \u001b[1;32mc:\\Users\\nextt\\Desktop\\Hawking\\eyeDx-research\\eyeDx-fl-centralized\\hawking\\Lib\\site-packages\\torch\\nn\\modules\\module.py:1747\u001b[0m, in \u001b[0;36mModule._call_impl\u001b[1;34m(self, *args, **kwargs)\u001b[0m\n\u001b[0;32m   1742\u001b[0m \u001b[38;5;66;03m# If we don't have any hooks, we want to skip the rest of the logic in\u001b[39;00m\n\u001b[0;32m   1743\u001b[0m \u001b[38;5;66;03m# this function, and just call forward.\u001b[39;00m\n\u001b[0;32m   1744\u001b[0m \u001b[38;5;28;01mif\u001b[39;00m \u001b[38;5;129;01mnot\u001b[39;00m (\u001b[38;5;28mself\u001b[39m\u001b[38;5;241m.\u001b[39m_backward_hooks \u001b[38;5;129;01mor\u001b[39;00m \u001b[38;5;28mself\u001b[39m\u001b[38;5;241m.\u001b[39m_backward_pre_hooks \u001b[38;5;129;01mor\u001b[39;00m \u001b[38;5;28mself\u001b[39m\u001b[38;5;241m.\u001b[39m_forward_hooks \u001b[38;5;129;01mor\u001b[39;00m \u001b[38;5;28mself\u001b[39m\u001b[38;5;241m.\u001b[39m_forward_pre_hooks\n\u001b[0;32m   1745\u001b[0m         \u001b[38;5;129;01mor\u001b[39;00m _global_backward_pre_hooks \u001b[38;5;129;01mor\u001b[39;00m _global_backward_hooks\n\u001b[0;32m   1746\u001b[0m         \u001b[38;5;129;01mor\u001b[39;00m _global_forward_hooks \u001b[38;5;129;01mor\u001b[39;00m _global_forward_pre_hooks):\n\u001b[1;32m-> 1747\u001b[0m     \u001b[38;5;28;01mreturn\u001b[39;00m \u001b[43mforward_call\u001b[49m\u001b[43m(\u001b[49m\u001b[38;5;241;43m*\u001b[39;49m\u001b[43margs\u001b[49m\u001b[43m,\u001b[49m\u001b[43m \u001b[49m\u001b[38;5;241;43m*\u001b[39;49m\u001b[38;5;241;43m*\u001b[39;49m\u001b[43mkwargs\u001b[49m\u001b[43m)\u001b[49m\n\u001b[0;32m   1749\u001b[0m result \u001b[38;5;241m=\u001b[39m \u001b[38;5;28;01mNone\u001b[39;00m\n\u001b[0;32m   1750\u001b[0m called_always_called_hooks \u001b[38;5;241m=\u001b[39m \u001b[38;5;28mset\u001b[39m()\n",
      "File \u001b[1;32mc:\\Users\\nextt\\Desktop\\Hawking\\eyeDx-research\\eyeDx-fl-centralized\\hawking\\Lib\\site-packages\\torch\\nn\\modules\\batchnorm.py:173\u001b[0m, in \u001b[0;36m_BatchNorm.forward\u001b[1;34m(self, input)\u001b[0m\n\u001b[0;32m    170\u001b[0m \u001b[38;5;28;01mif\u001b[39;00m \u001b[38;5;28mself\u001b[39m\u001b[38;5;241m.\u001b[39mtraining \u001b[38;5;129;01mand\u001b[39;00m \u001b[38;5;28mself\u001b[39m\u001b[38;5;241m.\u001b[39mtrack_running_stats:\n\u001b[0;32m    171\u001b[0m     \u001b[38;5;66;03m# TODO: if statement only here to tell the jit to skip emitting this when it is None\u001b[39;00m\n\u001b[0;32m    172\u001b[0m     \u001b[38;5;28;01mif\u001b[39;00m \u001b[38;5;28mself\u001b[39m\u001b[38;5;241m.\u001b[39mnum_batches_tracked \u001b[38;5;129;01mis\u001b[39;00m \u001b[38;5;129;01mnot\u001b[39;00m \u001b[38;5;28;01mNone\u001b[39;00m:  \u001b[38;5;66;03m# type: ignore[has-type]\u001b[39;00m\n\u001b[1;32m--> 173\u001b[0m         \u001b[38;5;28;43mself\u001b[39;49m\u001b[38;5;241;43m.\u001b[39;49m\u001b[43mnum_batches_tracked\u001b[49m\u001b[38;5;241;43m.\u001b[39;49m\u001b[43madd_\u001b[49m\u001b[43m(\u001b[49m\u001b[38;5;241;43m1\u001b[39;49m\u001b[43m)\u001b[49m  \u001b[38;5;66;03m# type: ignore[has-type]\u001b[39;00m\n\u001b[0;32m    174\u001b[0m         \u001b[38;5;28;01mif\u001b[39;00m \u001b[38;5;28mself\u001b[39m\u001b[38;5;241m.\u001b[39mmomentum \u001b[38;5;129;01mis\u001b[39;00m \u001b[38;5;28;01mNone\u001b[39;00m:  \u001b[38;5;66;03m# use cumulative moving average\u001b[39;00m\n\u001b[0;32m    175\u001b[0m             exponential_average_factor \u001b[38;5;241m=\u001b[39m \u001b[38;5;241m1.0\u001b[39m \u001b[38;5;241m/\u001b[39m \u001b[38;5;28mfloat\u001b[39m(\u001b[38;5;28mself\u001b[39m\u001b[38;5;241m.\u001b[39mnum_batches_tracked)\n",
      "\u001b[1;31mKeyboardInterrupt\u001b[0m: "
     ]
    }
   ],
   "source": [
    "torch.manual_seed(RANDOM_STATE)\n",
    "torch.cuda.manual_seed(RANDOM_STATE)\n",
    "\n",
    "##-- Define hyperparamters --##\n",
    "EPOCHS = 20\n",
    "LEARNING_RATE = 0.001\n",
    "\n",
    "##-- Define Loss & Optimizer --##\n",
    "loss_fn = nn.CrossEntropyLoss()\n",
    "optimizer = torch.optim.Adam(params=model_b7.parameters(), lr=LEARNING_RATE)\n",
    "\n",
    "##-- Start timer --##\n",
    "from timeit import default_timer as timer\n",
    "start_time = timer()\n",
    "\n",
    "##-- Setup training and save the results --##\n",
    "model_b7_results = engine.train(model=model_b7,\n",
    "                               train_dataloader=train_dataloader,\n",
    "                               val_dataloader=val_dataloader,\n",
    "                               optimizer=optimizer,\n",
    "                               loss_fn=loss_fn,\n",
    "                               epochs=EPOCHS,\n",
    "                               device=device)\n",
    "\n",
    "##-- End timer --##\n",
    "end_time = timer()"
   ]
  },
  {
   "cell_type": "code",
   "execution_count": null,
   "metadata": {},
   "outputs": [],
   "source": [
    "##- Save the model --##\n",
    "utils.save_model(model=model_b7,\n",
    "                 target_dir=\"./saved_models\",\n",
    "                 model_name=f\"efficientnetb7_{LEARNING_RATE}_{EPOCHS}_{BATCH_SIZE}.pth\",\n",
    "                 optimizer=optimizer,\n",
    "                 epoch=EPOCHS)\n",
    "\n",
    "print(f\"[INFO]: Total training time: {(end_time-start_time)/60:.3f} minutes.\")"
   ]
  },
  {
   "cell_type": "markdown",
   "metadata": {},
   "source": [
    "### 5. Evaluate Model"
   ]
  },
  {
   "cell_type": "code",
   "execution_count": 2,
   "metadata": {},
   "outputs": [
    {
     "ename": "NameError",
     "evalue": "name 'EPOCHS' is not defined",
     "output_type": "error",
     "traceback": [
      "\u001b[1;31m---------------------------------------------------------------------------\u001b[0m",
      "\u001b[1;31mNameError\u001b[0m                                 Traceback (most recent call last)",
      "Cell \u001b[1;32mIn[2], line 2\u001b[0m\n\u001b[0;32m      1\u001b[0m \u001b[38;5;66;03m##-- Plot loss curves --##\u001b[39;00m\n\u001b[1;32m----> 2\u001b[0m epochs \u001b[38;5;241m=\u001b[39m [i \u001b[38;5;28;01mfor\u001b[39;00m i \u001b[38;5;129;01min\u001b[39;00m \u001b[38;5;28mrange\u001b[39m(\u001b[38;5;241m1\u001b[39m, \u001b[43mEPOCHS\u001b[49m\u001b[38;5;241m+\u001b[39m\u001b[38;5;241m1\u001b[39m)]\n\u001b[0;32m      4\u001b[0m plt\u001b[38;5;241m.\u001b[39mfigure(figsize\u001b[38;5;241m=\u001b[39m(\u001b[38;5;241m12\u001b[39m, \u001b[38;5;241m5\u001b[39m))\n\u001b[0;32m      6\u001b[0m plt\u001b[38;5;241m.\u001b[39msubplot(\u001b[38;5;241m1\u001b[39m, \u001b[38;5;241m2\u001b[39m, \u001b[38;5;241m1\u001b[39m)\n",
      "\u001b[1;31mNameError\u001b[0m: name 'EPOCHS' is not defined"
     ]
    }
   ],
   "source": [
    "##-- Plot loss curves --##\n",
    "epochs = [i for i in range(1, EPOCHS+1)]\n",
    "\n",
    "plt.figure(figsize=(12, 5))\n",
    "\n",
    "plt.subplot(1, 2, 1)\n",
    "plt.plot(epochs, model_b7_results[\"train_loss\"], color=\"blue\", label=\"train_loss\")\n",
    "plt.plot(epochs, model_b7_results[\"val_loss\"], color=\"red\", label=\"val_loss\")\n",
    "plt.xlabel(\"Epochs\")\n",
    "plt.ylabel(\"Loss\")\n",
    "plt.legend()\n",
    "\n",
    "plt.subplot(1, 2, 2)\n",
    "plt.plot(epochs, model_b7_results[\"train_acc\"], color=\"blue\", label=\"train_acc\")\n",
    "plt.plot(epochs, model_b7_results[\"val_acc\"], color=\"green\", label=\"val_acc\")\n",
    "plt.xlabel(\"Epochs\")\n",
    "plt.ylabel(\"Accuracy\")\n",
    "plt.legend()"
   ]
  },
  {
   "cell_type": "markdown",
   "metadata": {},
   "source": [
    "### 6. Make Predictions From Test Set\n",
    "\n",
    "- To do this we have to make sure that our test/custom data is:\n",
    "    * Same shape\n",
    "    * Same device\n",
    "    * Same datatype..."
   ]
  },
  {
   "cell_type": "markdown",
   "metadata": {},
   "source": []
  }
 ],
 "metadata": {
  "kernelspec": {
   "display_name": "hawking",
   "language": "python",
   "name": "python3"
  },
  "language_info": {
   "codemirror_mode": {
    "name": "ipython",
    "version": 3
   },
   "file_extension": ".py",
   "mimetype": "text/x-python",
   "name": "python",
   "nbconvert_exporter": "python",
   "pygments_lexer": "ipython3",
   "version": "3.12.2"
  }
 },
 "nbformat": 4,
 "nbformat_minor": 2
}
