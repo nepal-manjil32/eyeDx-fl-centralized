{
 "cells": [
  {
   "cell_type": "markdown",
   "metadata": {},
   "source": [
    "### 0. Importing Necessary Libraries & Dependencies "
   ]
  },
  {
   "cell_type": "code",
   "execution_count": 3,
   "metadata": {},
   "outputs": [
    {
     "ename": "ModuleNotFoundError",
     "evalue": "No module named 'utils'",
     "output_type": "error",
     "traceback": [
      "\u001b[1;31m---------------------------------------------------------------------------\u001b[0m",
      "\u001b[1;31mModuleNotFoundError\u001b[0m                       Traceback (most recent call last)",
      "Cell \u001b[1;32mIn[3], line 7\u001b[0m\n\u001b[0;32m      5\u001b[0m \u001b[38;5;28;01mimport\u001b[39;00m\u001b[38;5;250m \u001b[39m\u001b[38;5;21;01mmatplotlib\u001b[39;00m\u001b[38;5;21;01m.\u001b[39;00m\u001b[38;5;21;01mpyplot\u001b[39;00m\u001b[38;5;250m \u001b[39m\u001b[38;5;28;01mas\u001b[39;00m\u001b[38;5;250m \u001b[39m\u001b[38;5;21;01mplt\u001b[39;00m\n\u001b[0;32m      6\u001b[0m \u001b[38;5;28;01mfrom\u001b[39;00m\u001b[38;5;250m \u001b[39m\u001b[38;5;21;01mtorchvision\u001b[39;00m\u001b[38;5;250m \u001b[39m\u001b[38;5;28;01mimport\u001b[39;00m transforms\n\u001b[1;32m----> 7\u001b[0m \u001b[38;5;28;01mfrom\u001b[39;00m\u001b[38;5;250m \u001b[39m\u001b[38;5;21;01mhelper_modules\u001b[39;00m\u001b[38;5;250m \u001b[39m\u001b[38;5;28;01mimport\u001b[39;00m data_setup, engine, utils\n\u001b[0;32m      8\u001b[0m \u001b[38;5;28;01mfrom\u001b[39;00m\u001b[38;5;250m \u001b[39m\u001b[38;5;21;01mtqdm\u001b[39;00m\u001b[38;5;21;01m.\u001b[39;00m\u001b[38;5;21;01mauto\u001b[39;00m\u001b[38;5;250m \u001b[39m\u001b[38;5;28;01mimport\u001b[39;00m tqdm\n\u001b[0;32m     10\u001b[0m \u001b[38;5;66;03m##-- Setup device agnostic code --##\u001b[39;00m\n",
      "File \u001b[1;32mc:\\Users\\nextt\\Desktop\\Hawking\\eyeDx-research\\eyeDx-fl-centralized\\efficientNet\\helper_modules\\engine.py:9\u001b[0m\n\u001b[0;32m      6\u001b[0m \u001b[38;5;28;01mimport\u001b[39;00m\u001b[38;5;250m \u001b[39m\u001b[38;5;21;01mtorch\u001b[39;00m\n\u001b[0;32m      8\u001b[0m \u001b[38;5;28;01mfrom\u001b[39;00m\u001b[38;5;250m \u001b[39m\u001b[38;5;21;01mtqdm\u001b[39;00m\u001b[38;5;21;01m.\u001b[39;00m\u001b[38;5;21;01mauto\u001b[39;00m\u001b[38;5;250m \u001b[39m\u001b[38;5;28;01mimport\u001b[39;00m tqdm\n\u001b[1;32m----> 9\u001b[0m \u001b[38;5;28;01mfrom\u001b[39;00m\u001b[38;5;250m \u001b[39m\u001b[38;5;21;01mutils\u001b[39;00m\u001b[38;5;250m \u001b[39m\u001b[38;5;28;01mimport\u001b[39;00m save_checkpoint, load_checkpoint\n\u001b[0;32m     11\u001b[0m \u001b[38;5;28;01mdef\u001b[39;00m\u001b[38;5;250m \u001b[39m\u001b[38;5;21mtrain_step\u001b[39m(model: torch\u001b[38;5;241m.\u001b[39mnn\u001b[38;5;241m.\u001b[39mModule,\n\u001b[0;32m     12\u001b[0m                dataloader: torch\u001b[38;5;241m.\u001b[39mutils\u001b[38;5;241m.\u001b[39mdata\u001b[38;5;241m.\u001b[39mDataLoader,\n\u001b[0;32m     13\u001b[0m                loss_fn: torch\u001b[38;5;241m.\u001b[39mnn\u001b[38;5;241m.\u001b[39mModule,\n\u001b[0;32m     14\u001b[0m                optimizer: torch\u001b[38;5;241m.\u001b[39moptim\u001b[38;5;241m.\u001b[39mOptimizer,\n\u001b[0;32m     15\u001b[0m                device: torch\u001b[38;5;241m.\u001b[39mdevice) \u001b[38;5;241m-\u001b[39m\u001b[38;5;241m>\u001b[39m Tuple[\u001b[38;5;28mfloat\u001b[39m, \u001b[38;5;28mfloat\u001b[39m]:\n\u001b[0;32m     16\u001b[0m \u001b[38;5;250m    \u001b[39m\u001b[38;5;124;03m\"\"\"Trains a PyTorch model for a single epoch.\u001b[39;00m\n\u001b[0;32m     17\u001b[0m \n\u001b[0;32m     18\u001b[0m \u001b[38;5;124;03m    Turns a target PyTorch model to training mode and then runs through all of the \u001b[39;00m\n\u001b[1;32m   (...)\u001b[0m\n\u001b[0;32m     32\u001b[0m \u001b[38;5;124;03m    (0.1112, 0.8743)\u001b[39;00m\n\u001b[0;32m     33\u001b[0m \u001b[38;5;124;03m    \"\"\"\u001b[39;00m\n",
      "\u001b[1;31mModuleNotFoundError\u001b[0m: No module named 'utils'"
     ]
    }
   ],
   "source": [
    "##-- Import libraries --##\n",
    "import torch\n",
    "import torchvision\n",
    "from torch import nn\n",
    "import matplotlib.pyplot as plt\n",
    "from torchvision import transforms\n",
    "from helper_modules import data_setup, engine, utils\n",
    "from tqdm.auto import tqdm\n",
    "\n",
    "##-- Setup device agnostic code --##\n",
    "device = \"cuda\" if torch.cuda.is_available() else \"cpu\"\n",
    "\n",
    "print(f\"PyTorch Version: {torch.__version__}\")\n",
    "print(f\"Device: {device}\")\n",
    "\n",
    "##-- Setting up hyperparamters\n",
    "BATCH_SIZE = 64\n",
    "RANDOM_STATE = 42"
   ]
  },
  {
   "cell_type": "markdown",
   "metadata": {},
   "source": [
    "### 1. Get Data"
   ]
  },
  {
   "cell_type": "code",
   "execution_count": 63,
   "metadata": {},
   "outputs": [
    {
     "data": {
      "text/plain": [
       "(WindowsPath('C:/Users/nextt/Desktop/Hawking/eyeDx-research/aug_train_val/train'),\n",
       " WindowsPath('C:/Users/nextt/Desktop/Hawking/eyeDx-research/aug_train_val/val'))"
      ]
     },
     "execution_count": 63,
     "metadata": {},
     "output_type": "execute_result"
    }
   ],
   "source": [
    "##-- Setup directory paths --##\n",
    "from pathlib import Path\n",
    "image_data_path = Path(r\"C:\\Users\\nextt\\Desktop\\Hawking\\eyeDx-research\\aug_train_val\")\n",
    "train_dir = image_data_path / \"train\"\n",
    "val_dir = image_data_path / \"val\"\n",
    "\n",
    "train_dir, val_dir"
   ]
  },
  {
   "cell_type": "markdown",
   "metadata": {},
   "source": [
    "### 2. Create Datasets & DataLoaders"
   ]
  },
  {
   "cell_type": "markdown",
   "metadata": {},
   "source": [
    "#### 2.1 Creating a transforms for `torchvision.models` (manual creation)"
   ]
  },
  {
   "cell_type": "code",
   "execution_count": 64,
   "metadata": {},
   "outputs": [],
   "source": [
    "from torchvision import transforms\n",
    "normalize = transforms.Normalize(mean=[0.485, 0.465, 0.406],\n",
    "                                 std=[0.229, 0.224, 0.225])\n",
    "\n",
    "manual_tranforms = transforms.Compose([transforms.Resize((480, 480)),\n",
    "                                       transforms.ToTensor(),\n",
    "                                       normalize])"
   ]
  },
  {
   "cell_type": "markdown",
   "metadata": {},
   "source": [
    "#### 2.2 Creating a transforms for `torchvision.models` (auto creation)\n",
    "\n",
    "- As of `torchvision` v0.13_ there is now support for automatic data transform creation based on the pretrained model weights you're using."
   ]
  },
  {
   "cell_type": "code",
   "execution_count": 65,
   "metadata": {},
   "outputs": [
    {
     "data": {
      "text/plain": [
       "EfficientNet_V2_M_Weights.IMAGENET1K_V1"
      ]
     },
     "execution_count": 65,
     "metadata": {},
     "output_type": "execute_result"
    }
   ],
   "source": [
    "##-- Get a set of pretrained model weights --##\n",
    "weights_v2_m =torchvision.models.EfficientNet_V2_M_Weights.DEFAULT # 'DEFAULT' = best availabel weight\n",
    "weights_v2_m"
   ]
  },
  {
   "cell_type": "code",
   "execution_count": 66,
   "metadata": {},
   "outputs": [
    {
     "data": {
      "text/plain": [
       "ImageClassification(\n",
       "    crop_size=[480]\n",
       "    resize_size=[480]\n",
       "    mean=[0.485, 0.456, 0.406]\n",
       "    std=[0.229, 0.224, 0.225]\n",
       "    interpolation=InterpolationMode.BILINEAR\n",
       ")"
      ]
     },
     "execution_count": 66,
     "metadata": {},
     "output_type": "execute_result"
    }
   ],
   "source": [
    "##-- Get the transforms used to create the pretrained weights\n",
    "auto_transforms = weights_v2_m.transforms()\n",
    "auto_transforms"
   ]
  },
  {
   "cell_type": "code",
   "execution_count": 67,
   "metadata": {},
   "outputs": [
    {
     "data": {
      "text/plain": [
       "(<torch.utils.data.dataloader.DataLoader at 0x2de9e630410>,\n",
       " <torch.utils.data.dataloader.DataLoader at 0x2de9e632840>,\n",
       " ['Central Serous Chorioretinopathy [Color Fundus]',\n",
       "  'Diabetic Retinopathy',\n",
       "  'Disc Edema',\n",
       "  'Glaucoma',\n",
       "  'Healthy',\n",
       "  'Macular Scar',\n",
       "  'Myopia',\n",
       "  'Pterygium',\n",
       "  'Retinal Detachment',\n",
       "  'Retinitis Pigmentosa'])"
      ]
     },
     "execution_count": 67,
     "metadata": {},
     "output_type": "execute_result"
    }
   ],
   "source": [
    "##-- Create DataLoaders using auto_transforms --##\n",
    "train_dataloader, val_dataloader, class_names = data_setup.create_dataloaders(train_dir=train_dir,\n",
    "                                                                              val_dir=val_dir,\n",
    "                                                                              transform=auto_transforms,\n",
    "                                                                              batch_size=BATCH_SIZE)\n",
    "train_dataloader, val_dataloader, class_names\n"
   ]
  },
  {
   "cell_type": "markdown",
   "metadata": {},
   "source": [
    "### 3. Getting Pretrained Models"
   ]
  },
  {
   "cell_type": "markdown",
   "metadata": {},
   "source": [
    "#### 3.1 Setting Up Pretrained Model"
   ]
  },
  {
   "cell_type": "code",
   "execution_count": 68,
   "metadata": {},
   "outputs": [],
   "source": [
    "import torchvision\n",
    "weights_v2_m = torchvision.models.EfficientNet_V2_M_Weights.DEFAULT # \"DEFAULT\" = get the best available weights\n",
    "model_v2_m = torchvision.models.efficientnet_v2_m(weights=weights_v2_m).to(device)"
   ]
  },
  {
   "cell_type": "code",
   "execution_count": 69,
   "metadata": {},
   "outputs": [
    {
     "name": "stdout",
     "output_type": "stream",
     "text": [
      "AdaptiveAvgPool2d(output_size=1)\n",
      "\n",
      "Sequential(\n",
      "  (0): Dropout(p=0.3, inplace=True)\n",
      "  (1): Linear(in_features=1280, out_features=1000, bias=True)\n",
      ")\n"
     ]
    }
   ],
   "source": [
    "print(f\"{model_v2_m.avgpool}\\n\")\n",
    "print(f\"{model_v2_m.classifier}\")"
   ]
  },
  {
   "cell_type": "markdown",
   "metadata": {},
   "source": [
    "#### 3.4 Getting Model Summary Using `torchinfo`"
   ]
  },
  {
   "cell_type": "code",
   "execution_count": 70,
   "metadata": {},
   "outputs": [
    {
     "data": {
      "text/plain": [
       "============================================================================================================================================\n",
       "Layer (type (var_name))                                      Input Shape          Output Shape         Param #              Trainable\n",
       "============================================================================================================================================\n",
       "EfficientNet (EfficientNet)                                  [1, 3, 480, 480]     [1, 1000]            --                   True\n",
       "├─Sequential (features)                                      [1, 3, 480, 480]     [1, 1280, 15, 15]    --                   True\n",
       "│    └─Conv2dNormActivation (0)                              [1, 3, 480, 480]     [1, 24, 240, 240]    --                   True\n",
       "│    │    └─Conv2d (0)                                       [1, 3, 480, 480]     [1, 24, 240, 240]    648                  True\n",
       "│    │    └─BatchNorm2d (1)                                  [1, 24, 240, 240]    [1, 24, 240, 240]    48                   True\n",
       "│    │    └─SiLU (2)                                         [1, 24, 240, 240]    [1, 24, 240, 240]    --                   --\n",
       "│    └─Sequential (1)                                        [1, 24, 240, 240]    [1, 24, 240, 240]    --                   True\n",
       "│    │    └─FusedMBConv (0)                                  [1, 24, 240, 240]    [1, 24, 240, 240]    5,232                True\n",
       "│    │    └─FusedMBConv (1)                                  [1, 24, 240, 240]    [1, 24, 240, 240]    5,232                True\n",
       "│    │    └─FusedMBConv (2)                                  [1, 24, 240, 240]    [1, 24, 240, 240]    5,232                True\n",
       "│    └─Sequential (2)                                        [1, 24, 240, 240]    [1, 48, 120, 120]    --                   True\n",
       "│    │    └─FusedMBConv (0)                                  [1, 24, 240, 240]    [1, 48, 120, 120]    25,632               True\n",
       "│    │    └─FusedMBConv (1)                                  [1, 48, 120, 120]    [1, 48, 120, 120]    92,640               True\n",
       "│    │    └─FusedMBConv (2)                                  [1, 48, 120, 120]    [1, 48, 120, 120]    92,640               True\n",
       "│    │    └─FusedMBConv (3)                                  [1, 48, 120, 120]    [1, 48, 120, 120]    92,640               True\n",
       "│    │    └─FusedMBConv (4)                                  [1, 48, 120, 120]    [1, 48, 120, 120]    92,640               True\n",
       "│    └─Sequential (3)                                        [1, 48, 120, 120]    [1, 80, 60, 60]      --                   True\n",
       "│    │    └─FusedMBConv (0)                                  [1, 48, 120, 120]    [1, 80, 60, 60]      98,848               True\n",
       "│    │    └─FusedMBConv (1)                                  [1, 80, 60, 60]      [1, 80, 60, 60]      256,800              True\n",
       "│    │    └─FusedMBConv (2)                                  [1, 80, 60, 60]      [1, 80, 60, 60]      256,800              True\n",
       "│    │    └─FusedMBConv (3)                                  [1, 80, 60, 60]      [1, 80, 60, 60]      256,800              True\n",
       "│    │    └─FusedMBConv (4)                                  [1, 80, 60, 60]      [1, 80, 60, 60]      256,800              True\n",
       "│    └─Sequential (4)                                        [1, 80, 60, 60]      [1, 160, 30, 30]     --                   True\n",
       "│    │    └─MBConv (0)                                       [1, 80, 60, 60]      [1, 160, 30, 30]     94,420               True\n",
       "│    │    └─MBConv (1)                                       [1, 160, 30, 30]     [1, 160, 30, 30]     265,320              True\n",
       "│    │    └─MBConv (2)                                       [1, 160, 30, 30]     [1, 160, 30, 30]     265,320              True\n",
       "│    │    └─MBConv (3)                                       [1, 160, 30, 30]     [1, 160, 30, 30]     265,320              True\n",
       "│    │    └─MBConv (4)                                       [1, 160, 30, 30]     [1, 160, 30, 30]     265,320              True\n",
       "│    │    └─MBConv (5)                                       [1, 160, 30, 30]     [1, 160, 30, 30]     265,320              True\n",
       "│    │    └─MBConv (6)                                       [1, 160, 30, 30]     [1, 160, 30, 30]     265,320              True\n",
       "│    └─Sequential (5)                                        [1, 160, 30, 30]     [1, 176, 30, 30]     --                   True\n",
       "│    │    └─MBConv (0)                                       [1, 160, 30, 30]     [1, 176, 30, 30]     413,192              True\n",
       "│    │    └─MBConv (1)                                       [1, 176, 30, 30]     [1, 176, 30, 30]     479,820              True\n",
       "│    │    └─MBConv (2)                                       [1, 176, 30, 30]     [1, 176, 30, 30]     479,820              True\n",
       "│    │    └─MBConv (3)                                       [1, 176, 30, 30]     [1, 176, 30, 30]     479,820              True\n",
       "│    │    └─MBConv (4)                                       [1, 176, 30, 30]     [1, 176, 30, 30]     479,820              True\n",
       "│    │    └─MBConv (5)                                       [1, 176, 30, 30]     [1, 176, 30, 30]     479,820              True\n",
       "│    │    └─MBConv (6)                                       [1, 176, 30, 30]     [1, 176, 30, 30]     479,820              True\n",
       "│    │    └─MBConv (7)                                       [1, 176, 30, 30]     [1, 176, 30, 30]     479,820              True\n",
       "│    │    └─MBConv (8)                                       [1, 176, 30, 30]     [1, 176, 30, 30]     479,820              True\n",
       "│    │    └─MBConv (9)                                       [1, 176, 30, 30]     [1, 176, 30, 30]     479,820              True\n",
       "│    │    └─MBConv (10)                                      [1, 176, 30, 30]     [1, 176, 30, 30]     479,820              True\n",
       "│    │    └─MBConv (11)                                      [1, 176, 30, 30]     [1, 176, 30, 30]     479,820              True\n",
       "│    │    └─MBConv (12)                                      [1, 176, 30, 30]     [1, 176, 30, 30]     479,820              True\n",
       "│    │    └─MBConv (13)                                      [1, 176, 30, 30]     [1, 176, 30, 30]     479,820              True\n",
       "│    └─Sequential (6)                                        [1, 176, 30, 30]     [1, 304, 15, 15]     --                   True\n",
       "│    │    └─MBConv (0)                                       [1, 176, 30, 30]     [1, 304, 15, 15]     615,244              True\n",
       "│    │    └─MBConv (1)                                       [1, 304, 15, 15]     [1, 304, 15, 15]     1,412,460            True\n",
       "│    │    └─MBConv (2)                                       [1, 304, 15, 15]     [1, 304, 15, 15]     1,412,460            True\n",
       "│    │    └─MBConv (3)                                       [1, 304, 15, 15]     [1, 304, 15, 15]     1,412,460            True\n",
       "│    │    └─MBConv (4)                                       [1, 304, 15, 15]     [1, 304, 15, 15]     1,412,460            True\n",
       "│    │    └─MBConv (5)                                       [1, 304, 15, 15]     [1, 304, 15, 15]     1,412,460            True\n",
       "│    │    └─MBConv (6)                                       [1, 304, 15, 15]     [1, 304, 15, 15]     1,412,460            True\n",
       "│    │    └─MBConv (7)                                       [1, 304, 15, 15]     [1, 304, 15, 15]     1,412,460            True\n",
       "│    │    └─MBConv (8)                                       [1, 304, 15, 15]     [1, 304, 15, 15]     1,412,460            True\n",
       "│    │    └─MBConv (9)                                       [1, 304, 15, 15]     [1, 304, 15, 15]     1,412,460            True\n",
       "│    │    └─MBConv (10)                                      [1, 304, 15, 15]     [1, 304, 15, 15]     1,412,460            True\n",
       "│    │    └─MBConv (11)                                      [1, 304, 15, 15]     [1, 304, 15, 15]     1,412,460            True\n",
       "│    │    └─MBConv (12)                                      [1, 304, 15, 15]     [1, 304, 15, 15]     1,412,460            True\n",
       "│    │    └─MBConv (13)                                      [1, 304, 15, 15]     [1, 304, 15, 15]     1,412,460            True\n",
       "│    │    └─MBConv (14)                                      [1, 304, 15, 15]     [1, 304, 15, 15]     1,412,460            True\n",
       "│    │    └─MBConv (15)                                      [1, 304, 15, 15]     [1, 304, 15, 15]     1,412,460            True\n",
       "│    │    └─MBConv (16)                                      [1, 304, 15, 15]     [1, 304, 15, 15]     1,412,460            True\n",
       "│    │    └─MBConv (17)                                      [1, 304, 15, 15]     [1, 304, 15, 15]     1,412,460            True\n",
       "│    └─Sequential (7)                                        [1, 304, 15, 15]     [1, 512, 15, 15]     --                   True\n",
       "│    │    └─MBConv (0)                                       [1, 304, 15, 15]     [1, 512, 15, 15]     1,792,268            True\n",
       "│    │    └─MBConv (1)                                       [1, 512, 15, 15]     [1, 512, 15, 15]     3,976,320            True\n",
       "│    │    └─MBConv (2)                                       [1, 512, 15, 15]     [1, 512, 15, 15]     3,976,320            True\n",
       "│    │    └─MBConv (3)                                       [1, 512, 15, 15]     [1, 512, 15, 15]     3,976,320            True\n",
       "│    │    └─MBConv (4)                                       [1, 512, 15, 15]     [1, 512, 15, 15]     3,976,320            True\n",
       "│    └─Conv2dNormActivation (8)                              [1, 512, 15, 15]     [1, 1280, 15, 15]    --                   True\n",
       "│    │    └─Conv2d (0)                                       [1, 512, 15, 15]     [1, 1280, 15, 15]    655,360              True\n",
       "│    │    └─BatchNorm2d (1)                                  [1, 1280, 15, 15]    [1, 1280, 15, 15]    2,560                True\n",
       "│    │    └─SiLU (2)                                         [1, 1280, 15, 15]    [1, 1280, 15, 15]    --                   --\n",
       "├─AdaptiveAvgPool2d (avgpool)                                [1, 1280, 15, 15]    [1, 1280, 1, 1]      --                   --\n",
       "├─Sequential (classifier)                                    [1, 1280]            [1, 1000]            --                   True\n",
       "│    └─Dropout (0)                                           [1, 1280]            [1, 1280]            --                   --\n",
       "│    └─Linear (1)                                            [1, 1280]            [1, 1000]            1,281,000            True\n",
       "============================================================================================================================================\n",
       "Total params: 54,139,356\n",
       "Trainable params: 54,139,356\n",
       "Non-trainable params: 0\n",
       "Total mult-adds (Units.GIGABYTES): 24.58\n",
       "============================================================================================================================================\n",
       "Input size (MB): 2.76\n",
       "Forward/backward pass size (MB): 1436.86\n",
       "Params size (MB): 216.56\n",
       "Estimated Total Size (MB): 1656.19\n",
       "============================================================================================================================================"
      ]
     },
     "execution_count": 70,
     "metadata": {},
     "output_type": "execute_result"
    }
   ],
   "source": [
    "from torchinfo import summary\n",
    "\n",
    "summary(model=model_v2_m,\n",
    "        input_size=(1, 3, 480, 480), # [batch_size, color_channels, height, width],\n",
    "        col_names=[\"input_size\", \"output_size\", \"num_params\", \"trainable\"],\n",
    "        col_width=20,\n",
    "        row_settings=[\"var_names\"])"
   ]
  },
  {
   "cell_type": "markdown",
   "metadata": {},
   "source": [
    "#### 3.5 Freezing Base Model & Changing Output Layer Based On Our Needs"
   ]
  },
  {
   "cell_type": "code",
   "execution_count": 71,
   "metadata": {},
   "outputs": [],
   "source": [
    "##-- Freeze all the base layers in EffNetB7 --##\n",
    "for params in model_v2_m.features.parameters():\n",
    "    params.requires_grad = False # won't updated the weights"
   ]
  },
  {
   "cell_type": "code",
   "execution_count": 72,
   "metadata": {},
   "outputs": [],
   "source": [
    "##-- Update the classifier head of our model to suite our problem --##\n",
    "from torch import nn\n",
    "\n",
    "torch.manual_seed(RANDOM_STATE)\n",
    "torch.cuda.manual_seed(RANDOM_STATE)\n",
    "\n",
    "model_v2_m.classifier = nn.Sequential(\n",
    "    nn.Dropout(p=0.2, inplace=True),\n",
    "    nn.Linear(in_features=1280, # features vector coming in from the forzen layers\n",
    "              out_features=len(class_names)).to(device))"
   ]
  },
  {
   "cell_type": "code",
   "execution_count": 73,
   "metadata": {},
   "outputs": [
    {
     "data": {
      "text/plain": [
       "============================================================================================================================================\n",
       "Layer (type (var_name))                                      Input Shape          Output Shape         Param #              Trainable\n",
       "============================================================================================================================================\n",
       "EfficientNet (EfficientNet)                                  [1, 3, 480, 480]     [1, 10]              --                   Partial\n",
       "├─Sequential (features)                                      [1, 3, 480, 480]     [1, 1280, 15, 15]    --                   False\n",
       "│    └─Conv2dNormActivation (0)                              [1, 3, 480, 480]     [1, 24, 240, 240]    --                   False\n",
       "│    │    └─Conv2d (0)                                       [1, 3, 480, 480]     [1, 24, 240, 240]    (648)                False\n",
       "│    │    └─BatchNorm2d (1)                                  [1, 24, 240, 240]    [1, 24, 240, 240]    (48)                 False\n",
       "│    │    └─SiLU (2)                                         [1, 24, 240, 240]    [1, 24, 240, 240]    --                   --\n",
       "│    └─Sequential (1)                                        [1, 24, 240, 240]    [1, 24, 240, 240]    --                   False\n",
       "│    │    └─FusedMBConv (0)                                  [1, 24, 240, 240]    [1, 24, 240, 240]    (5,232)              False\n",
       "│    │    └─FusedMBConv (1)                                  [1, 24, 240, 240]    [1, 24, 240, 240]    (5,232)              False\n",
       "│    │    └─FusedMBConv (2)                                  [1, 24, 240, 240]    [1, 24, 240, 240]    (5,232)              False\n",
       "│    └─Sequential (2)                                        [1, 24, 240, 240]    [1, 48, 120, 120]    --                   False\n",
       "│    │    └─FusedMBConv (0)                                  [1, 24, 240, 240]    [1, 48, 120, 120]    (25,632)             False\n",
       "│    │    └─FusedMBConv (1)                                  [1, 48, 120, 120]    [1, 48, 120, 120]    (92,640)             False\n",
       "│    │    └─FusedMBConv (2)                                  [1, 48, 120, 120]    [1, 48, 120, 120]    (92,640)             False\n",
       "│    │    └─FusedMBConv (3)                                  [1, 48, 120, 120]    [1, 48, 120, 120]    (92,640)             False\n",
       "│    │    └─FusedMBConv (4)                                  [1, 48, 120, 120]    [1, 48, 120, 120]    (92,640)             False\n",
       "│    └─Sequential (3)                                        [1, 48, 120, 120]    [1, 80, 60, 60]      --                   False\n",
       "│    │    └─FusedMBConv (0)                                  [1, 48, 120, 120]    [1, 80, 60, 60]      (98,848)             False\n",
       "│    │    └─FusedMBConv (1)                                  [1, 80, 60, 60]      [1, 80, 60, 60]      (256,800)            False\n",
       "│    │    └─FusedMBConv (2)                                  [1, 80, 60, 60]      [1, 80, 60, 60]      (256,800)            False\n",
       "│    │    └─FusedMBConv (3)                                  [1, 80, 60, 60]      [1, 80, 60, 60]      (256,800)            False\n",
       "│    │    └─FusedMBConv (4)                                  [1, 80, 60, 60]      [1, 80, 60, 60]      (256,800)            False\n",
       "│    └─Sequential (4)                                        [1, 80, 60, 60]      [1, 160, 30, 30]     --                   False\n",
       "│    │    └─MBConv (0)                                       [1, 80, 60, 60]      [1, 160, 30, 30]     (94,420)             False\n",
       "│    │    └─MBConv (1)                                       [1, 160, 30, 30]     [1, 160, 30, 30]     (265,320)            False\n",
       "│    │    └─MBConv (2)                                       [1, 160, 30, 30]     [1, 160, 30, 30]     (265,320)            False\n",
       "│    │    └─MBConv (3)                                       [1, 160, 30, 30]     [1, 160, 30, 30]     (265,320)            False\n",
       "│    │    └─MBConv (4)                                       [1, 160, 30, 30]     [1, 160, 30, 30]     (265,320)            False\n",
       "│    │    └─MBConv (5)                                       [1, 160, 30, 30]     [1, 160, 30, 30]     (265,320)            False\n",
       "│    │    └─MBConv (6)                                       [1, 160, 30, 30]     [1, 160, 30, 30]     (265,320)            False\n",
       "│    └─Sequential (5)                                        [1, 160, 30, 30]     [1, 176, 30, 30]     --                   False\n",
       "│    │    └─MBConv (0)                                       [1, 160, 30, 30]     [1, 176, 30, 30]     (413,192)            False\n",
       "│    │    └─MBConv (1)                                       [1, 176, 30, 30]     [1, 176, 30, 30]     (479,820)            False\n",
       "│    │    └─MBConv (2)                                       [1, 176, 30, 30]     [1, 176, 30, 30]     (479,820)            False\n",
       "│    │    └─MBConv (3)                                       [1, 176, 30, 30]     [1, 176, 30, 30]     (479,820)            False\n",
       "│    │    └─MBConv (4)                                       [1, 176, 30, 30]     [1, 176, 30, 30]     (479,820)            False\n",
       "│    │    └─MBConv (5)                                       [1, 176, 30, 30]     [1, 176, 30, 30]     (479,820)            False\n",
       "│    │    └─MBConv (6)                                       [1, 176, 30, 30]     [1, 176, 30, 30]     (479,820)            False\n",
       "│    │    └─MBConv (7)                                       [1, 176, 30, 30]     [1, 176, 30, 30]     (479,820)            False\n",
       "│    │    └─MBConv (8)                                       [1, 176, 30, 30]     [1, 176, 30, 30]     (479,820)            False\n",
       "│    │    └─MBConv (9)                                       [1, 176, 30, 30]     [1, 176, 30, 30]     (479,820)            False\n",
       "│    │    └─MBConv (10)                                      [1, 176, 30, 30]     [1, 176, 30, 30]     (479,820)            False\n",
       "│    │    └─MBConv (11)                                      [1, 176, 30, 30]     [1, 176, 30, 30]     (479,820)            False\n",
       "│    │    └─MBConv (12)                                      [1, 176, 30, 30]     [1, 176, 30, 30]     (479,820)            False\n",
       "│    │    └─MBConv (13)                                      [1, 176, 30, 30]     [1, 176, 30, 30]     (479,820)            False\n",
       "│    └─Sequential (6)                                        [1, 176, 30, 30]     [1, 304, 15, 15]     --                   False\n",
       "│    │    └─MBConv (0)                                       [1, 176, 30, 30]     [1, 304, 15, 15]     (615,244)            False\n",
       "│    │    └─MBConv (1)                                       [1, 304, 15, 15]     [1, 304, 15, 15]     (1,412,460)          False\n",
       "│    │    └─MBConv (2)                                       [1, 304, 15, 15]     [1, 304, 15, 15]     (1,412,460)          False\n",
       "│    │    └─MBConv (3)                                       [1, 304, 15, 15]     [1, 304, 15, 15]     (1,412,460)          False\n",
       "│    │    └─MBConv (4)                                       [1, 304, 15, 15]     [1, 304, 15, 15]     (1,412,460)          False\n",
       "│    │    └─MBConv (5)                                       [1, 304, 15, 15]     [1, 304, 15, 15]     (1,412,460)          False\n",
       "│    │    └─MBConv (6)                                       [1, 304, 15, 15]     [1, 304, 15, 15]     (1,412,460)          False\n",
       "│    │    └─MBConv (7)                                       [1, 304, 15, 15]     [1, 304, 15, 15]     (1,412,460)          False\n",
       "│    │    └─MBConv (8)                                       [1, 304, 15, 15]     [1, 304, 15, 15]     (1,412,460)          False\n",
       "│    │    └─MBConv (9)                                       [1, 304, 15, 15]     [1, 304, 15, 15]     (1,412,460)          False\n",
       "│    │    └─MBConv (10)                                      [1, 304, 15, 15]     [1, 304, 15, 15]     (1,412,460)          False\n",
       "│    │    └─MBConv (11)                                      [1, 304, 15, 15]     [1, 304, 15, 15]     (1,412,460)          False\n",
       "│    │    └─MBConv (12)                                      [1, 304, 15, 15]     [1, 304, 15, 15]     (1,412,460)          False\n",
       "│    │    └─MBConv (13)                                      [1, 304, 15, 15]     [1, 304, 15, 15]     (1,412,460)          False\n",
       "│    │    └─MBConv (14)                                      [1, 304, 15, 15]     [1, 304, 15, 15]     (1,412,460)          False\n",
       "│    │    └─MBConv (15)                                      [1, 304, 15, 15]     [1, 304, 15, 15]     (1,412,460)          False\n",
       "│    │    └─MBConv (16)                                      [1, 304, 15, 15]     [1, 304, 15, 15]     (1,412,460)          False\n",
       "│    │    └─MBConv (17)                                      [1, 304, 15, 15]     [1, 304, 15, 15]     (1,412,460)          False\n",
       "│    └─Sequential (7)                                        [1, 304, 15, 15]     [1, 512, 15, 15]     --                   False\n",
       "│    │    └─MBConv (0)                                       [1, 304, 15, 15]     [1, 512, 15, 15]     (1,792,268)          False\n",
       "│    │    └─MBConv (1)                                       [1, 512, 15, 15]     [1, 512, 15, 15]     (3,976,320)          False\n",
       "│    │    └─MBConv (2)                                       [1, 512, 15, 15]     [1, 512, 15, 15]     (3,976,320)          False\n",
       "│    │    └─MBConv (3)                                       [1, 512, 15, 15]     [1, 512, 15, 15]     (3,976,320)          False\n",
       "│    │    └─MBConv (4)                                       [1, 512, 15, 15]     [1, 512, 15, 15]     (3,976,320)          False\n",
       "│    └─Conv2dNormActivation (8)                              [1, 512, 15, 15]     [1, 1280, 15, 15]    --                   False\n",
       "│    │    └─Conv2d (0)                                       [1, 512, 15, 15]     [1, 1280, 15, 15]    (655,360)            False\n",
       "│    │    └─BatchNorm2d (1)                                  [1, 1280, 15, 15]    [1, 1280, 15, 15]    (2,560)              False\n",
       "│    │    └─SiLU (2)                                         [1, 1280, 15, 15]    [1, 1280, 15, 15]    --                   --\n",
       "├─AdaptiveAvgPool2d (avgpool)                                [1, 1280, 15, 15]    [1, 1280, 1, 1]      --                   --\n",
       "├─Sequential (classifier)                                    [1, 1280]            [1, 10]              --                   True\n",
       "│    └─Dropout (0)                                           [1, 1280]            [1, 1280]            --                   --\n",
       "│    └─Linear (1)                                            [1, 1280]            [1, 10]              12,810               True\n",
       "============================================================================================================================================\n",
       "Total params: 52,871,166\n",
       "Trainable params: 12,810\n",
       "Non-trainable params: 52,858,356\n",
       "Total mult-adds (Units.GIGABYTES): 24.58\n",
       "============================================================================================================================================\n",
       "Input size (MB): 2.76\n",
       "Forward/backward pass size (MB): 1436.86\n",
       "Params size (MB): 211.48\n",
       "Estimated Total Size (MB): 1651.11\n",
       "============================================================================================================================================"
      ]
     },
     "execution_count": 73,
     "metadata": {},
     "output_type": "execute_result"
    }
   ],
   "source": [
    "summary(model=model_v2_m,\n",
    "        input_size=(1, 3, 480, 480), # [batch_size, color_channels, height, width],\n",
    "        col_names=[\"input_size\", \"output_size\", \"num_params\", \"trainable\"],\n",
    "        col_width=20,\n",
    "        row_settings=[\"var_names\"])"
   ]
  },
  {
   "cell_type": "markdown",
   "metadata": {},
   "source": [
    "### 4. Train Model"
   ]
  },
  {
   "cell_type": "code",
   "execution_count": 74,
   "metadata": {},
   "outputs": [
    {
     "name": "stderr",
     "output_type": "stream",
     "text": [
      "  3%|▎         | 1/30 [04:03<1:57:45, 243.65s/it]"
     ]
    },
    {
     "name": "stdout",
     "output_type": "stream",
     "text": [
      "Epoch: 1 | train_loss: 1.9442 | train_acc: 0.3366 | val_loss: 1.7317 | val_acc: 0.4370\n"
     ]
    },
    {
     "name": "stderr",
     "output_type": "stream",
     "text": [
      "  7%|▋         | 2/30 [07:27<1:42:42, 220.09s/it]"
     ]
    },
    {
     "name": "stdout",
     "output_type": "stream",
     "text": [
      "Epoch: 2 | train_loss: 1.6536 | train_acc: 0.4573 | val_loss: 1.5196 | val_acc: 0.4872\n"
     ]
    },
    {
     "name": "stderr",
     "output_type": "stream",
     "text": [
      " 10%|█         | 3/30 [11:33<1:44:20, 231.89s/it]"
     ]
    },
    {
     "name": "stdout",
     "output_type": "stream",
     "text": [
      "Epoch: 3 | train_loss: 1.4964 | train_acc: 0.5033 | val_loss: 1.3823 | val_acc: 0.5357\n"
     ]
    },
    {
     "name": "stderr",
     "output_type": "stream",
     "text": [
      " 13%|█▎        | 4/30 [15:38<1:42:42, 237.01s/it]"
     ]
    },
    {
     "name": "stdout",
     "output_type": "stream",
     "text": [
      "Epoch: 4 | train_loss: 1.3916 | train_acc: 0.5424 | val_loss: 1.2925 | val_acc: 0.5678\n"
     ]
    },
    {
     "name": "stderr",
     "output_type": "stream",
     "text": [
      " 17%|█▋        | 5/30 [19:42<1:39:49, 239.60s/it]"
     ]
    },
    {
     "name": "stdout",
     "output_type": "stream",
     "text": [
      "Epoch: 5 | train_loss: 1.3132 | train_acc: 0.5604 | val_loss: 1.2227 | val_acc: 0.5865\n"
     ]
    },
    {
     "name": "stderr",
     "output_type": "stream",
     "text": [
      " 20%|██        | 6/30 [23:47<1:36:35, 241.46s/it]"
     ]
    },
    {
     "name": "stdout",
     "output_type": "stream",
     "text": [
      "Epoch: 6 | train_loss: 1.2604 | train_acc: 0.5804 | val_loss: 1.1784 | val_acc: 0.6001\n"
     ]
    },
    {
     "name": "stderr",
     "output_type": "stream",
     "text": [
      " 23%|██▎       | 7/30 [27:52<1:32:59, 242.61s/it]"
     ]
    },
    {
     "name": "stdout",
     "output_type": "stream",
     "text": [
      "Epoch: 7 | train_loss: 1.2055 | train_acc: 0.5984 | val_loss: 1.1218 | val_acc: 0.6267\n"
     ]
    },
    {
     "name": "stderr",
     "output_type": "stream",
     "text": [
      " 27%|██▋       | 8/30 [31:56<1:29:08, 243.10s/it]"
     ]
    },
    {
     "name": "stdout",
     "output_type": "stream",
     "text": [
      "Epoch: 8 | train_loss: 1.1655 | train_acc: 0.6113 | val_loss: 1.0920 | val_acc: 0.6281\n"
     ]
    },
    {
     "name": "stderr",
     "output_type": "stream",
     "text": [
      " 30%|███       | 9/30 [35:58<1:24:59, 242.85s/it]"
     ]
    },
    {
     "name": "stdout",
     "output_type": "stream",
     "text": [
      "Epoch: 9 | train_loss: 1.1328 | train_acc: 0.6197 | val_loss: 1.0597 | val_acc: 0.6293\n"
     ]
    },
    {
     "name": "stderr",
     "output_type": "stream",
     "text": [
      " 33%|███▎      | 10/30 [40:00<1:20:52, 242.64s/it]"
     ]
    },
    {
     "name": "stdout",
     "output_type": "stream",
     "text": [
      "Epoch: 10 | train_loss: 1.1055 | train_acc: 0.6279 | val_loss: 1.0404 | val_acc: 0.6348\n"
     ]
    },
    {
     "name": "stderr",
     "output_type": "stream",
     "text": [
      " 37%|███▋      | 11/30 [44:01<1:16:39, 242.10s/it]"
     ]
    },
    {
     "name": "stdout",
     "output_type": "stream",
     "text": [
      "Epoch: 11 | train_loss: 1.0842 | train_acc: 0.6298 | val_loss: 1.0347 | val_acc: 0.6407\n"
     ]
    },
    {
     "name": "stderr",
     "output_type": "stream",
     "text": [
      " 40%|████      | 12/30 [47:42<1:10:41, 235.67s/it]"
     ]
    },
    {
     "name": "stdout",
     "output_type": "stream",
     "text": [
      "Epoch: 12 | train_loss: 1.0592 | train_acc: 0.6418 | val_loss: 1.0078 | val_acc: 0.6448\n"
     ]
    },
    {
     "name": "stderr",
     "output_type": "stream",
     "text": [
      " 43%|████▎     | 13/30 [51:44<1:07:17, 237.49s/it]"
     ]
    },
    {
     "name": "stdout",
     "output_type": "stream",
     "text": [
      "Epoch: 13 | train_loss: 1.0479 | train_acc: 0.6438 | val_loss: 0.9810 | val_acc: 0.6538\n"
     ]
    },
    {
     "name": "stderr",
     "output_type": "stream",
     "text": [
      " 47%|████▋     | 14/30 [55:48<1:03:52, 239.56s/it]"
     ]
    },
    {
     "name": "stdout",
     "output_type": "stream",
     "text": [
      "Epoch: 14 | train_loss: 1.0296 | train_acc: 0.6502 | val_loss: 0.9732 | val_acc: 0.6573\n"
     ]
    },
    {
     "name": "stderr",
     "output_type": "stream",
     "text": [
      " 50%|█████     | 15/30 [59:46<59:46, 239.09s/it]  "
     ]
    },
    {
     "name": "stdout",
     "output_type": "stream",
     "text": [
      "Epoch: 15 | train_loss: 1.0210 | train_acc: 0.6492 | val_loss: 0.9444 | val_acc: 0.6666\n"
     ]
    },
    {
     "name": "stderr",
     "output_type": "stream",
     "text": [
      " 53%|█████▎    | 16/30 [1:03:42<55:34, 238.19s/it]"
     ]
    },
    {
     "name": "stdout",
     "output_type": "stream",
     "text": [
      "Epoch: 16 | train_loss: 1.0032 | train_acc: 0.6592 | val_loss: 0.9477 | val_acc: 0.6649\n"
     ]
    },
    {
     "name": "stderr",
     "output_type": "stream",
     "text": [
      " 57%|█████▋    | 17/30 [1:07:41<51:36, 238.21s/it]"
     ]
    },
    {
     "name": "stdout",
     "output_type": "stream",
     "text": [
      "Epoch: 17 | train_loss: 0.9904 | train_acc: 0.6603 | val_loss: 0.9284 | val_acc: 0.6717\n"
     ]
    },
    {
     "name": "stderr",
     "output_type": "stream",
     "text": [
      " 60%|██████    | 18/30 [1:11:39<47:40, 238.38s/it]"
     ]
    },
    {
     "name": "stdout",
     "output_type": "stream",
     "text": [
      "Epoch: 18 | train_loss: 0.9818 | train_acc: 0.6587 | val_loss: 0.9181 | val_acc: 0.6735\n"
     ]
    },
    {
     "name": "stderr",
     "output_type": "stream",
     "text": [
      " 63%|██████▎   | 19/30 [1:15:38<43:44, 238.57s/it]"
     ]
    },
    {
     "name": "stdout",
     "output_type": "stream",
     "text": [
      "Epoch: 19 | train_loss: 0.9718 | train_acc: 0.6628 | val_loss: 0.9163 | val_acc: 0.6776\n"
     ]
    },
    {
     "name": "stderr",
     "output_type": "stream",
     "text": [
      " 67%|██████▋   | 20/30 [1:19:37<39:44, 238.44s/it]"
     ]
    },
    {
     "name": "stdout",
     "output_type": "stream",
     "text": [
      "Epoch: 20 | train_loss: 0.9631 | train_acc: 0.6640 | val_loss: 0.9036 | val_acc: 0.6789\n"
     ]
    },
    {
     "name": "stderr",
     "output_type": "stream",
     "text": [
      " 70%|███████   | 21/30 [1:23:36<35:49, 238.80s/it]"
     ]
    },
    {
     "name": "stdout",
     "output_type": "stream",
     "text": [
      "Epoch: 21 | train_loss: 0.9539 | train_acc: 0.6652 | val_loss: 0.9041 | val_acc: 0.6785\n"
     ]
    },
    {
     "name": "stderr",
     "output_type": "stream",
     "text": [
      " 73%|███████▎  | 22/30 [1:27:35<31:51, 238.96s/it]"
     ]
    },
    {
     "name": "stdout",
     "output_type": "stream",
     "text": [
      "Epoch: 22 | train_loss: 0.9459 | train_acc: 0.6682 | val_loss: 0.8890 | val_acc: 0.6770\n"
     ]
    },
    {
     "name": "stderr",
     "output_type": "stream",
     "text": [
      " 77%|███████▋  | 23/30 [1:31:35<27:53, 239.07s/it]"
     ]
    },
    {
     "name": "stdout",
     "output_type": "stream",
     "text": [
      "Epoch: 23 | train_loss: 0.9406 | train_acc: 0.6694 | val_loss: 0.8873 | val_acc: 0.6793\n"
     ]
    },
    {
     "name": "stderr",
     "output_type": "stream",
     "text": [
      " 80%|████████  | 24/30 [1:35:34<23:53, 238.99s/it]"
     ]
    },
    {
     "name": "stdout",
     "output_type": "stream",
     "text": [
      "Epoch: 24 | train_loss: 0.9342 | train_acc: 0.6700 | val_loss: 0.8776 | val_acc: 0.6816\n"
     ]
    },
    {
     "name": "stderr",
     "output_type": "stream",
     "text": [
      " 83%|████████▎ | 25/30 [1:39:32<19:53, 238.71s/it]"
     ]
    },
    {
     "name": "stdout",
     "output_type": "stream",
     "text": [
      "Epoch: 25 | train_loss: 0.9317 | train_acc: 0.6754 | val_loss: 0.8816 | val_acc: 0.6815\n"
     ]
    },
    {
     "name": "stderr",
     "output_type": "stream",
     "text": [
      " 87%|████████▋ | 26/30 [1:43:32<15:56, 239.08s/it]"
     ]
    },
    {
     "name": "stdout",
     "output_type": "stream",
     "text": [
      "Epoch: 26 | train_loss: 0.9186 | train_acc: 0.6812 | val_loss: 0.8691 | val_acc: 0.6835\n"
     ]
    },
    {
     "name": "stderr",
     "output_type": "stream",
     "text": [
      " 90%|█████████ | 27/30 [1:47:29<11:55, 238.45s/it]"
     ]
    },
    {
     "name": "stdout",
     "output_type": "stream",
     "text": [
      "Epoch: 27 | train_loss: 0.9125 | train_acc: 0.6777 | val_loss: 0.8629 | val_acc: 0.6853\n"
     ]
    },
    {
     "name": "stderr",
     "output_type": "stream",
     "text": [
      " 93%|█████████▎| 28/30 [1:51:25<07:55, 237.93s/it]"
     ]
    },
    {
     "name": "stdout",
     "output_type": "stream",
     "text": [
      "Epoch: 28 | train_loss: 0.9135 | train_acc: 0.6783 | val_loss: 0.8597 | val_acc: 0.6856\n"
     ]
    },
    {
     "name": "stderr",
     "output_type": "stream",
     "text": [
      " 97%|█████████▋| 29/30 [1:55:24<03:58, 238.12s/it]"
     ]
    },
    {
     "name": "stdout",
     "output_type": "stream",
     "text": [
      "Epoch: 29 | train_loss: 0.9091 | train_acc: 0.6787 | val_loss: 0.8597 | val_acc: 0.6841\n"
     ]
    },
    {
     "name": "stderr",
     "output_type": "stream",
     "text": [
      "100%|██████████| 30/30 [1:59:19<00:00, 238.66s/it]"
     ]
    },
    {
     "name": "stdout",
     "output_type": "stream",
     "text": [
      "Epoch: 30 | train_loss: 0.9023 | train_acc: 0.6810 | val_loss: 0.8430 | val_acc: 0.6959\n"
     ]
    },
    {
     "name": "stderr",
     "output_type": "stream",
     "text": [
      "\n"
     ]
    },
    {
     "ename": "TypeError",
     "evalue": "save_model() got an unexpected keyword argument 'current_epoch'",
     "output_type": "error",
     "traceback": [
      "\u001b[1;31m---------------------------------------------------------------------------\u001b[0m",
      "\u001b[1;31mTypeError\u001b[0m                                 Traceback (most recent call last)",
      "Cell \u001b[1;32mIn[74], line 30\u001b[0m\n\u001b[0;32m     27\u001b[0m end_time \u001b[38;5;241m=\u001b[39m timer()\n\u001b[0;32m     29\u001b[0m \u001b[38;5;66;03m##- Save the model --##\u001b[39;00m\n\u001b[1;32m---> 30\u001b[0m \u001b[43mutils\u001b[49m\u001b[38;5;241;43m.\u001b[39;49m\u001b[43msave_model\u001b[49m\u001b[43m(\u001b[49m\u001b[43mmodel\u001b[49m\u001b[38;5;241;43m=\u001b[39;49m\u001b[43mmodel_v2_m\u001b[49m\u001b[43m,\u001b[49m\n\u001b[0;32m     31\u001b[0m \u001b[43m                 \u001b[49m\u001b[43mtarget_dir\u001b[49m\u001b[38;5;241;43m=\u001b[39;49m\u001b[38;5;124;43m\"\u001b[39;49m\u001b[38;5;124;43m./saved_models\u001b[39;49m\u001b[38;5;124;43m\"\u001b[39;49m\u001b[43m,\u001b[49m\n\u001b[0;32m     32\u001b[0m \u001b[43m                 \u001b[49m\u001b[43mmodel_name\u001b[49m\u001b[38;5;241;43m=\u001b[39;49m\u001b[38;5;124;43mf\u001b[39;49m\u001b[38;5;124;43m\"\u001b[39;49m\u001b[38;5;124;43mefficientnet_v2_m_\u001b[39;49m\u001b[38;5;132;43;01m{\u001b[39;49;00m\u001b[43mEPOCHS\u001b[49m\u001b[38;5;132;43;01m}\u001b[39;49;00m\u001b[38;5;124;43m_\u001b[39;49m\u001b[38;5;132;43;01m{\u001b[39;49;00m\u001b[43mLEARNING_RATE\u001b[49m\u001b[38;5;132;43;01m}\u001b[39;49;00m\u001b[38;5;124;43m_\u001b[39;49m\u001b[38;5;132;43;01m{\u001b[39;49;00m\u001b[43mBATCH_SIZE\u001b[49m\u001b[38;5;132;43;01m}\u001b[39;49;00m\u001b[38;5;124;43m.pth\u001b[39;49m\u001b[38;5;124;43m\"\u001b[39;49m\u001b[43m,\u001b[49m\n\u001b[0;32m     33\u001b[0m \u001b[43m                 \u001b[49m\u001b[43mcurrent_epoch\u001b[49m\u001b[38;5;241;43m=\u001b[39;49m\u001b[43mEPOCHS\u001b[49m\u001b[43m,\u001b[49m\n\u001b[0;32m     34\u001b[0m \u001b[43m                 \u001b[49m\u001b[43moptimizer\u001b[49m\u001b[38;5;241;43m=\u001b[39;49m\u001b[43moptimizer\u001b[49m\u001b[43m)\u001b[49m\n\u001b[0;32m     36\u001b[0m \u001b[38;5;28mprint\u001b[39m(\u001b[38;5;124mf\u001b[39m\u001b[38;5;124m\"\u001b[39m\u001b[38;5;124m[INFO]: Total training time: \u001b[39m\u001b[38;5;132;01m{\u001b[39;00m(end_time\u001b[38;5;241m-\u001b[39mstart_time)\u001b[38;5;241m/\u001b[39m\u001b[38;5;241m60\u001b[39m\u001b[38;5;132;01m:\u001b[39;00m\u001b[38;5;124m.2f\u001b[39m\u001b[38;5;132;01m}\u001b[39;00m\u001b[38;5;124m minutes.\u001b[39m\u001b[38;5;124m\"\u001b[39m)\n",
      "\u001b[1;31mTypeError\u001b[0m: save_model() got an unexpected keyword argument 'current_epoch'"
     ]
    }
   ],
   "source": [
    "torch.manual_seed(RANDOM_STATE)\n",
    "torch.cuda.manual_seed(RANDOM_STATE)\n",
    "\n",
    "##-- Define hyperparamters --##\n",
    "EPOCHS = 30\n",
    "LEARNING_RATE = 0.0001\n",
    "\n",
    "\n",
    "##-- Define Loss & Optimizer --##\n",
    "loss_fn = nn.CrossEntropyLoss()\n",
    "optimizer = torch.optim.Adam(params=model_v2_m.parameters(), lr=LEARNING_RATE)\n",
    "\n",
    "##-- Start timer --##\n",
    "from timeit import default_timer as timer\n",
    "start_time = timer()\n",
    "\n",
    "##-- Setup training and save the results --##\n",
    "model_v2_m_results = engine.train(model=model_v2_m,\n",
    "                               train_dataloader=train_dataloader,\n",
    "                               val_dataloader=val_dataloader,\n",
    "                               optimizer=optimizer,\n",
    "                               loss_fn=loss_fn,\n",
    "                               epochs=EPOCHS,\n",
    "                               device=device)\n",
    "\n",
    "##-- End timer --##\n",
    "end_time = timer()"
   ]
  },
  {
   "cell_type": "code",
   "execution_count": 4,
   "metadata": {},
   "outputs": [
    {
     "ename": "NameError",
     "evalue": "name 'model_v2_m' is not defined",
     "output_type": "error",
     "traceback": [
      "\u001b[1;31m---------------------------------------------------------------------------\u001b[0m",
      "\u001b[1;31mNameError\u001b[0m                                 Traceback (most recent call last)",
      "Cell \u001b[1;32mIn[4], line 3\u001b[0m\n\u001b[0;32m      1\u001b[0m \u001b[38;5;66;03m##- Save the model --##\u001b[39;00m\n\u001b[0;32m      2\u001b[0m \u001b[38;5;28;01mfrom\u001b[39;00m\u001b[38;5;250m \u001b[39m\u001b[38;5;21;01mhelper_modules\u001b[39;00m\u001b[38;5;250m \u001b[39m\u001b[38;5;28;01mimport\u001b[39;00m utils\n\u001b[1;32m----> 3\u001b[0m utils\u001b[38;5;241m.\u001b[39msave_model(model\u001b[38;5;241m=\u001b[39m\u001b[43mmodel_v2_m\u001b[49m,\n\u001b[0;32m      4\u001b[0m                  target_dir\u001b[38;5;241m=\u001b[39m\u001b[38;5;124m\"\u001b[39m\u001b[38;5;124m./saved_models\u001b[39m\u001b[38;5;124m\"\u001b[39m,\n\u001b[0;32m      5\u001b[0m                  model_name\u001b[38;5;241m=\u001b[39m\u001b[38;5;124mf\u001b[39m\u001b[38;5;124m\"\u001b[39m\u001b[38;5;124mefficientnet_v2_m_\u001b[39m\u001b[38;5;132;01m{\u001b[39;00mEPOCHS\u001b[38;5;132;01m}\u001b[39;00m\u001b[38;5;124m_\u001b[39m\u001b[38;5;132;01m{\u001b[39;00mLEARNING_RATE\u001b[38;5;132;01m}\u001b[39;00m\u001b[38;5;124m_\u001b[39m\u001b[38;5;132;01m{\u001b[39;00mBATCH_SIZE\u001b[38;5;132;01m}\u001b[39;00m\u001b[38;5;124m.pth\u001b[39m\u001b[38;5;124m\"\u001b[39m,\n\u001b[0;32m      6\u001b[0m                  optimizer\u001b[38;5;241m=\u001b[39moptimizer,\n\u001b[0;32m      7\u001b[0m                  epoch\u001b[38;5;241m=\u001b[39mEPOCHS)\n\u001b[0;32m      9\u001b[0m \u001b[38;5;28mprint\u001b[39m(\u001b[38;5;124mf\u001b[39m\u001b[38;5;124m\"\u001b[39m\u001b[38;5;124m[INFO]: Total training time: \u001b[39m\u001b[38;5;132;01m{\u001b[39;00m(end_time\u001b[38;5;241m-\u001b[39mstart_time)\u001b[38;5;241m/\u001b[39m\u001b[38;5;241m60\u001b[39m\u001b[38;5;132;01m:\u001b[39;00m\u001b[38;5;124m.2f\u001b[39m\u001b[38;5;132;01m}\u001b[39;00m\u001b[38;5;124m minutes.\u001b[39m\u001b[38;5;124m\"\u001b[39m)\n",
      "\u001b[1;31mNameError\u001b[0m: name 'model_v2_m' is not defined"
     ]
    }
   ],
   "source": [
    "##- Save the model --##\n",
    "from helper_modules import utils\n",
    "utils.save_model(model=model_v2_m,\n",
    "                 target_dir=\"./saved_models\",\n",
    "                 model_name=f\"efficientnet_v2_m_{EPOCHS}_{LEARNING_RATE}_{BATCH_SIZE}.pth\",\n",
    "                 optimizer=optimizer,\n",
    "                 epoch=EPOCHS)\n",
    "\n",
    "print(f\"[INFO]: Total training time: {(end_time-start_time)/60:.2f} minutes.\")"
   ]
  },
  {
   "cell_type": "markdown",
   "metadata": {},
   "source": [
    "### 5. Evaluate Model"
   ]
  },
  {
   "cell_type": "code",
   "execution_count": 79,
   "metadata": {},
   "outputs": [
    {
     "data": {
      "image/png": "[encoded data removed]",
      "text/plain": [
       "<Figure size 1200x500 with 2 Axes>"
      ]
     },
     "metadata": {},
     "output_type": "display_data"
    }
   ],
   "source": [
    "##-- Plot loss curves --##\n",
    "epochs = [i for i in range(1, EPOCHS+1)]\n",
    "\n",
    "plt.figure(figsize=(12, 5))\n",
    "\n",
    "plt.subplot(1, 2, 1)\n",
    "plt.plot(epochs, model_v2_m_results[\"train_loss\"], color=\"blue\", label=\"train_loss\")\n",
    "plt.plot(epochs, model_v2_m_results[\"val_loss\"], color=\"red\", label=\"val_loss\")\n",
    "plt.xlabel(\"Epochs\")\n",
    "plt.ylabel(\"Loss\")\n",
    "\n",
    "plt.subplot(1, 2, 2)\n",
    "plt.plot(epochs, model_v2_m_results[\"train_acc\"], color=\"blue\", label=\"train_acc\")\n",
    "plt.plot(epochs, model_v2_m_results[\"val_acc\"], color=\"green\", label=\"val_acc\")\n",
    "plt.xlabel(\"Epochs\")\n",
    "plt.ylabel(\"Accuracy\")\n",
    "plt.suptitle(\"EfficientnetV2_M Results\")\n",
    "plt.savefig(f\"plot_v2_m_{EPOCHS}_{LEARNING_RATE}_{BATCH_SIZE}.png\")\n",
    "plt.legend()\n",
    "plt.show()"
   ]
  },
  {
   "cell_type": "code",
   "execution_count": null,
   "metadata": {},
   "outputs": [],
   "source": []
  }
 ],
 "metadata": {
  "kernelspec": {
   "display_name": "hawking",
   "language": "python",
   "name": "python3"
  },
  "language_info": {
   "codemirror_mode": {
    "name": "ipython",
    "version": 3
   },
   "file_extension": ".py",
   "mimetype": "text/x-python",
   "name": "python",
   "nbconvert_exporter": "python",
   "pygments_lexer": "ipython3",
   "version": "3.12.2"
  }
 },
 "nbformat": 4,
 "nbformat_minor": 2
}
